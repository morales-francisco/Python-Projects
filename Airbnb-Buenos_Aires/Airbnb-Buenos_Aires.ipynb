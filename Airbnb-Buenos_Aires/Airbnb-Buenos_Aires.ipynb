{
 "cells": [
  {
   "cell_type": "code",
   "execution_count": 1,
   "metadata": {
    "id": "fiGHJNQHfHY4"
   },
   "outputs": [],
   "source": [
    "import pandas as pd\n",
    "import re\n",
    "import numpy as np\n",
    "from collections import Counter\n",
    "from itertools import chain\n",
    "import matplotlib.pyplot as plt\n",
    "import seaborn as sns\n",
    "import warnings\n",
    "warnings.filterwarnings(\"ignore\")"
   ]
  },
  {
   "cell_type": "code",
   "execution_count": 2,
   "metadata": {
    "colab": {
     "base_uri": "https://localhost:8080/",
     "height": 589
    },
    "id": "jcm-dbQCfkRP",
    "outputId": "9342aeee-0e8f-4295-ff8f-cd5d4d2d6aa5"
   },
   "outputs": [
    {
     "data": {
      "text/html": [
       "<div>\n",
       "<style scoped>\n",
       "    .dataframe tbody tr th:only-of-type {\n",
       "        vertical-align: middle;\n",
       "    }\n",
       "\n",
       "    .dataframe tbody tr th {\n",
       "        vertical-align: top;\n",
       "    }\n",
       "\n",
       "    .dataframe thead th {\n",
       "        text-align: right;\n",
       "    }\n",
       "</style>\n",
       "<table border=\"1\" class=\"dataframe\">\n",
       "  <thead>\n",
       "    <tr style=\"text-align: right;\">\n",
       "      <th></th>\n",
       "      <th>id</th>\n",
       "      <th>listing_url</th>\n",
       "      <th>scrape_id</th>\n",
       "      <th>last_scraped</th>\n",
       "      <th>source</th>\n",
       "      <th>name</th>\n",
       "      <th>description</th>\n",
       "      <th>neighborhood_overview</th>\n",
       "      <th>picture_url</th>\n",
       "      <th>host_id</th>\n",
       "      <th>...</th>\n",
       "      <th>review_scores_communication</th>\n",
       "      <th>review_scores_location</th>\n",
       "      <th>review_scores_value</th>\n",
       "      <th>license</th>\n",
       "      <th>instant_bookable</th>\n",
       "      <th>calculated_host_listings_count</th>\n",
       "      <th>calculated_host_listings_count_entire_homes</th>\n",
       "      <th>calculated_host_listings_count_private_rooms</th>\n",
       "      <th>calculated_host_listings_count_shared_rooms</th>\n",
       "      <th>reviews_per_month</th>\n",
       "    </tr>\n",
       "  </thead>\n",
       "  <tbody>\n",
       "    <tr>\n",
       "      <th>0</th>\n",
       "      <td>11508</td>\n",
       "      <td>https://www.airbnb.com/rooms/11508</td>\n",
       "      <td>20220922013624</td>\n",
       "      <td>2022-09-22</td>\n",
       "      <td>city scrape</td>\n",
       "      <td>Amazing Luxurious Apt-Palermo Soho</td>\n",
       "      <td>&lt;b&gt;The space&lt;/b&gt;&lt;br /&gt;LUXURIOUS NEW APT: 1 BDR...</td>\n",
       "      <td>AREA: PALERMO SOHO&lt;br /&gt;&lt;br /&gt;Minutes walking ...</td>\n",
       "      <td>https://a0.muscache.com/pictures/19357696/b1de...</td>\n",
       "      <td>42762</td>\n",
       "      <td>...</td>\n",
       "      <td>4.97</td>\n",
       "      <td>4.93</td>\n",
       "      <td>4.93</td>\n",
       "      <td>NaN</td>\n",
       "      <td>f</td>\n",
       "      <td>1</td>\n",
       "      <td>1</td>\n",
       "      <td>0</td>\n",
       "      <td>0</td>\n",
       "      <td>0.24</td>\n",
       "    </tr>\n",
       "    <tr>\n",
       "      <th>1</th>\n",
       "      <td>118877</td>\n",
       "      <td>https://www.airbnb.com/rooms/118877</td>\n",
       "      <td>20220922013624</td>\n",
       "      <td>2022-09-22</td>\n",
       "      <td>city scrape</td>\n",
       "      <td>Entire Studio/apt in Buenos Aires</td>\n",
       "      <td>&lt;b&gt;The space&lt;/b&gt;&lt;br /&gt;Inspired by the cultural...</td>\n",
       "      <td>NaN</td>\n",
       "      <td>https://a0.muscache.com/pictures/777724/21a535...</td>\n",
       "      <td>600320</td>\n",
       "      <td>...</td>\n",
       "      <td>4.86</td>\n",
       "      <td>4.45</td>\n",
       "      <td>4.64</td>\n",
       "      <td>NaN</td>\n",
       "      <td>t</td>\n",
       "      <td>2</td>\n",
       "      <td>2</td>\n",
       "      <td>0</td>\n",
       "      <td>0</td>\n",
       "      <td>0.18</td>\n",
       "    </tr>\n",
       "    <tr>\n",
       "      <th>2</th>\n",
       "      <td>14222</td>\n",
       "      <td>https://www.airbnb.com/rooms/14222</td>\n",
       "      <td>20220922013624</td>\n",
       "      <td>2022-09-22</td>\n",
       "      <td>city scrape</td>\n",
       "      <td>RELAX IN HAPPY HOUSE - PALERMO, BUENOS AIRES</td>\n",
       "      <td>Beautiful cozy apartment in excellent location...</td>\n",
       "      <td>Palermo is such a perfect place to explore the...</td>\n",
       "      <td>https://a0.muscache.com/pictures/4695637/bbae8...</td>\n",
       "      <td>87710233</td>\n",
       "      <td>...</td>\n",
       "      <td>4.89</td>\n",
       "      <td>4.88</td>\n",
       "      <td>4.73</td>\n",
       "      <td>NaN</td>\n",
       "      <td>f</td>\n",
       "      <td>3</td>\n",
       "      <td>2</td>\n",
       "      <td>1</td>\n",
       "      <td>0</td>\n",
       "      <td>0.79</td>\n",
       "    </tr>\n",
       "    <tr>\n",
       "      <th>3</th>\n",
       "      <td>120874</td>\n",
       "      <td>https://www.airbnb.com/rooms/120874</td>\n",
       "      <td>20220922013624</td>\n",
       "      <td>2022-09-22</td>\n",
       "      <td>city scrape</td>\n",
       "      <td>Great apt 1 Bedroom - 1.5 Bath /Recoleta</td>\n",
       "      <td>&lt;b&gt;The space&lt;/b&gt;&lt;br /&gt;This great apartment is ...</td>\n",
       "      <td>NaN</td>\n",
       "      <td>https://a0.muscache.com/pictures/108877484/5f3...</td>\n",
       "      <td>530261</td>\n",
       "      <td>...</td>\n",
       "      <td>4.80</td>\n",
       "      <td>4.80</td>\n",
       "      <td>4.50</td>\n",
       "      <td>NaN</td>\n",
       "      <td>f</td>\n",
       "      <td>27</td>\n",
       "      <td>26</td>\n",
       "      <td>0</td>\n",
       "      <td>0</td>\n",
       "      <td>0.07</td>\n",
       "    </tr>\n",
       "    <tr>\n",
       "      <th>4</th>\n",
       "      <td>122907</td>\n",
       "      <td>https://www.airbnb.com/rooms/122907</td>\n",
       "      <td>20220922013624</td>\n",
       "      <td>2022-09-22</td>\n",
       "      <td>city scrape</td>\n",
       "      <td>Spotless entire apt. Ideal location</td>\n",
       "      <td>Apartment is situated on 4th floor. There are ...</td>\n",
       "      <td>Boedo area is knowen for it's tango places. Th...</td>\n",
       "      <td>https://a0.muscache.com/pictures/12160576/0b27...</td>\n",
       "      <td>426566</td>\n",
       "      <td>...</td>\n",
       "      <td>4.86</td>\n",
       "      <td>4.82</td>\n",
       "      <td>4.57</td>\n",
       "      <td>NaN</td>\n",
       "      <td>t</td>\n",
       "      <td>8</td>\n",
       "      <td>8</td>\n",
       "      <td>0</td>\n",
       "      <td>0</td>\n",
       "      <td>0.21</td>\n",
       "    </tr>\n",
       "  </tbody>\n",
       "</table>\n",
       "<p>5 rows × 75 columns</p>\n",
       "</div>"
      ],
      "text/plain": [
       "       id                          listing_url       scrape_id last_scraped  \\\n",
       "0   11508   https://www.airbnb.com/rooms/11508  20220922013624   2022-09-22   \n",
       "1  118877  https://www.airbnb.com/rooms/118877  20220922013624   2022-09-22   \n",
       "2   14222   https://www.airbnb.com/rooms/14222  20220922013624   2022-09-22   \n",
       "3  120874  https://www.airbnb.com/rooms/120874  20220922013624   2022-09-22   \n",
       "4  122907  https://www.airbnb.com/rooms/122907  20220922013624   2022-09-22   \n",
       "\n",
       "        source                                          name  \\\n",
       "0  city scrape            Amazing Luxurious Apt-Palermo Soho   \n",
       "1  city scrape             Entire Studio/apt in Buenos Aires   \n",
       "2  city scrape  RELAX IN HAPPY HOUSE - PALERMO, BUENOS AIRES   \n",
       "3  city scrape      Great apt 1 Bedroom - 1.5 Bath /Recoleta   \n",
       "4  city scrape           Spotless entire apt. Ideal location   \n",
       "\n",
       "                                         description  \\\n",
       "0  <b>The space</b><br />LUXURIOUS NEW APT: 1 BDR...   \n",
       "1  <b>The space</b><br />Inspired by the cultural...   \n",
       "2  Beautiful cozy apartment in excellent location...   \n",
       "3  <b>The space</b><br />This great apartment is ...   \n",
       "4  Apartment is situated on 4th floor. There are ...   \n",
       "\n",
       "                               neighborhood_overview  \\\n",
       "0  AREA: PALERMO SOHO<br /><br />Minutes walking ...   \n",
       "1                                                NaN   \n",
       "2  Palermo is such a perfect place to explore the...   \n",
       "3                                                NaN   \n",
       "4  Boedo area is knowen for it's tango places. Th...   \n",
       "\n",
       "                                         picture_url   host_id  ...  \\\n",
       "0  https://a0.muscache.com/pictures/19357696/b1de...     42762  ...   \n",
       "1  https://a0.muscache.com/pictures/777724/21a535...    600320  ...   \n",
       "2  https://a0.muscache.com/pictures/4695637/bbae8...  87710233  ...   \n",
       "3  https://a0.muscache.com/pictures/108877484/5f3...    530261  ...   \n",
       "4  https://a0.muscache.com/pictures/12160576/0b27...    426566  ...   \n",
       "\n",
       "  review_scores_communication review_scores_location review_scores_value  \\\n",
       "0                        4.97                   4.93                4.93   \n",
       "1                        4.86                   4.45                4.64   \n",
       "2                        4.89                   4.88                4.73   \n",
       "3                        4.80                   4.80                4.50   \n",
       "4                        4.86                   4.82                4.57   \n",
       "\n",
       "  license instant_bookable calculated_host_listings_count  \\\n",
       "0     NaN                f                              1   \n",
       "1     NaN                t                              2   \n",
       "2     NaN                f                              3   \n",
       "3     NaN                f                             27   \n",
       "4     NaN                t                              8   \n",
       "\n",
       "  calculated_host_listings_count_entire_homes  \\\n",
       "0                                           1   \n",
       "1                                           2   \n",
       "2                                           2   \n",
       "3                                          26   \n",
       "4                                           8   \n",
       "\n",
       "  calculated_host_listings_count_private_rooms  \\\n",
       "0                                            0   \n",
       "1                                            0   \n",
       "2                                            1   \n",
       "3                                            0   \n",
       "4                                            0   \n",
       "\n",
       "  calculated_host_listings_count_shared_rooms reviews_per_month  \n",
       "0                                           0              0.24  \n",
       "1                                           0              0.18  \n",
       "2                                           0              0.79  \n",
       "3                                           0              0.07  \n",
       "4                                           0              0.21  \n",
       "\n",
       "[5 rows x 75 columns]"
      ]
     },
     "execution_count": 2,
     "metadata": {},
     "output_type": "execute_result"
    }
   ],
   "source": [
    "df = pd.read_csv('listings.csv')\n",
    "df.head()"
   ]
  },
  {
   "cell_type": "code",
   "execution_count": 3,
   "metadata": {
    "colab": {
     "base_uri": "https://localhost:8080/"
    },
    "id": "VizhB6bcgYZO",
    "outputId": "654ba3d9-1fab-42e5-e7e0-279a9e05aa24"
   },
   "outputs": [
    {
     "data": {
      "text/plain": [
       "75"
      ]
     },
     "execution_count": 3,
     "metadata": {},
     "output_type": "execute_result"
    }
   ],
   "source": [
    "len(df.columns)"
   ]
  },
  {
   "cell_type": "code",
   "execution_count": 4,
   "metadata": {
    "colab": {
     "base_uri": "https://localhost:8080/"
    },
    "id": "NLHvNFYdrcy5",
    "outputId": "10f3e5c9-a397-438f-feac-9e3895ba7bff"
   },
   "outputs": [
    {
     "name": "stdout",
     "output_type": "stream",
     "text": [
      "<class 'pandas.core.frame.DataFrame'>\n",
      "RangeIndex: 17947 entries, 0 to 17946\n",
      "Data columns (total 75 columns):\n",
      " #   Column                                        Non-Null Count  Dtype  \n",
      "---  ------                                        --------------  -----  \n",
      " 0   id                                            17947 non-null  int64  \n",
      " 1   listing_url                                   17947 non-null  object \n",
      " 2   scrape_id                                     17947 non-null  int64  \n",
      " 3   last_scraped                                  17947 non-null  object \n",
      " 4   source                                        17947 non-null  object \n",
      " 5   name                                          17944 non-null  object \n",
      " 6   description                                   17435 non-null  object \n",
      " 7   neighborhood_overview                         10426 non-null  object \n",
      " 8   picture_url                                   17947 non-null  object \n",
      " 9   host_id                                       17947 non-null  int64  \n",
      " 10  host_url                                      17947 non-null  object \n",
      " 11  host_name                                     17947 non-null  object \n",
      " 12  host_since                                    17947 non-null  object \n",
      " 13  host_location                                 14396 non-null  object \n",
      " 14  host_about                                    10644 non-null  object \n",
      " 15  host_response_time                            15527 non-null  object \n",
      " 16  host_response_rate                            15527 non-null  object \n",
      " 17  host_acceptance_rate                          15934 non-null  object \n",
      " 18  host_is_superhost                             17947 non-null  object \n",
      " 19  host_thumbnail_url                            17947 non-null  object \n",
      " 20  host_picture_url                              17947 non-null  object \n",
      " 21  host_neighbourhood                            13427 non-null  object \n",
      " 22  host_listings_count                           17947 non-null  int64  \n",
      " 23  host_total_listings_count                     17947 non-null  int64  \n",
      " 24  host_verifications                            17947 non-null  object \n",
      " 25  host_has_profile_pic                          17947 non-null  object \n",
      " 26  host_identity_verified                        17947 non-null  object \n",
      " 27  neighbourhood                                 10426 non-null  object \n",
      " 28  neighbourhood_cleansed                        17947 non-null  object \n",
      " 29  neighbourhood_group_cleansed                  0 non-null      float64\n",
      " 30  latitude                                      17947 non-null  float64\n",
      " 31  longitude                                     17947 non-null  float64\n",
      " 32  property_type                                 17947 non-null  object \n",
      " 33  room_type                                     17947 non-null  object \n",
      " 34  accommodates                                  17947 non-null  int64  \n",
      " 35  bathrooms                                     0 non-null      float64\n",
      " 36  bathrooms_text                                17900 non-null  object \n",
      " 37  bedrooms                                      15431 non-null  float64\n",
      " 38  beds                                          17702 non-null  float64\n",
      " 39  amenities                                     17947 non-null  object \n",
      " 40  price                                         17947 non-null  object \n",
      " 41  minimum_nights                                17947 non-null  int64  \n",
      " 42  maximum_nights                                17947 non-null  int64  \n",
      " 43  minimum_minimum_nights                        17947 non-null  int64  \n",
      " 44  maximum_minimum_nights                        17947 non-null  int64  \n",
      " 45  minimum_maximum_nights                        17947 non-null  int64  \n",
      " 46  maximum_maximum_nights                        17947 non-null  int64  \n",
      " 47  minimum_nights_avg_ntm                        17947 non-null  float64\n",
      " 48  maximum_nights_avg_ntm                        17947 non-null  float64\n",
      " 49  calendar_updated                              0 non-null      float64\n",
      " 50  has_availability                              17947 non-null  object \n",
      " 51  availability_30                               17947 non-null  int64  \n",
      " 52  availability_60                               17947 non-null  int64  \n",
      " 53  availability_90                               17947 non-null  int64  \n",
      " 54  availability_365                              17947 non-null  int64  \n",
      " 55  calendar_last_scraped                         17947 non-null  object \n",
      " 56  number_of_reviews                             17947 non-null  int64  \n",
      " 57  number_of_reviews_ltm                         17947 non-null  int64  \n",
      " 58  number_of_reviews_l30d                        17947 non-null  int64  \n",
      " 59  first_review                                  14140 non-null  object \n",
      " 60  last_review                                   14140 non-null  object \n",
      " 61  review_scores_rating                          14140 non-null  float64\n",
      " 62  review_scores_accuracy                        14027 non-null  float64\n",
      " 63  review_scores_cleanliness                     14027 non-null  float64\n",
      " 64  review_scores_checkin                         14028 non-null  float64\n",
      " 65  review_scores_communication                   14028 non-null  float64\n",
      " 66  review_scores_location                        14028 non-null  float64\n",
      " 67  review_scores_value                           14028 non-null  float64\n",
      " 68  license                                       363 non-null    object \n",
      " 69  instant_bookable                              17947 non-null  object \n",
      " 70  calculated_host_listings_count                17947 non-null  int64  \n",
      " 71  calculated_host_listings_count_entire_homes   17947 non-null  int64  \n",
      " 72  calculated_host_listings_count_private_rooms  17947 non-null  int64  \n",
      " 73  calculated_host_listings_count_shared_rooms   17947 non-null  int64  \n",
      " 74  reviews_per_month                             14140 non-null  float64\n",
      "dtypes: float64(17), int64(23), object(35)\n",
      "memory usage: 10.3+ MB\n"
     ]
    }
   ],
   "source": [
    "df.info()"
   ]
  },
  {
   "cell_type": "markdown",
   "metadata": {
    "id": "2vlzxs1xDHey"
   },
   "source": [
    "Checking if there are duplicates records"
   ]
  },
  {
   "cell_type": "code",
   "execution_count": 5,
   "metadata": {
    "colab": {
     "base_uri": "https://localhost:8080/"
    },
    "id": "01BxDL46zp_X",
    "outputId": "f8f5608f-1ef1-4838-eaf9-b8fcfbadaae1"
   },
   "outputs": [
    {
     "data": {
      "text/plain": [
       "0"
      ]
     },
     "execution_count": 5,
     "metadata": {},
     "output_type": "execute_result"
    }
   ],
   "source": [
    "df.duplicated().sum()"
   ]
  },
  {
   "cell_type": "code",
   "execution_count": 6,
   "metadata": {
    "colab": {
     "base_uri": "https://localhost:8080/"
    },
    "id": "508lAaNqCUuj",
    "outputId": "605e89e4-6166-4ba6-bbfa-7abaabcde481"
   },
   "outputs": [
    {
     "data": {
      "text/plain": [
       "0"
      ]
     },
     "execution_count": 6,
     "metadata": {},
     "output_type": "execute_result"
    }
   ],
   "source": [
    "df['id'].duplicated().sum()"
   ]
  },
  {
   "cell_type": "markdown",
   "metadata": {
    "id": "MXLJANgSDS-j"
   },
   "source": [
    "Checking the null values"
   ]
  },
  {
   "cell_type": "code",
   "execution_count": 7,
   "metadata": {
    "colab": {
     "base_uri": "https://localhost:8080/"
    },
    "id": "UmC_nAJHCb8c",
    "outputId": "2f5941a3-bf8e-46ac-e6d5-569e1783577b"
   },
   "outputs": [
    {
     "data": {
      "text/plain": [
       "neighbourhood_group_cleansed    17947\n",
       "bathrooms                       17947\n",
       "calendar_updated                17947\n",
       "license                         17584\n",
       "neighbourhood                    7521\n",
       "neighborhood_overview            7521\n",
       "host_about                       7303\n",
       "host_neighbourhood               4520\n",
       "review_scores_accuracy           3920\n",
       "review_scores_cleanliness        3920\n",
       "review_scores_checkin            3919\n",
       "review_scores_communication      3919\n",
       "review_scores_location           3919\n",
       "review_scores_value              3919\n",
       "review_scores_rating             3807\n",
       "last_review                      3807\n",
       "first_review                     3807\n",
       "reviews_per_month                3807\n",
       "host_location                    3551\n",
       "bedrooms                         2516\n",
       "host_response_rate               2420\n",
       "host_response_time               2420\n",
       "host_acceptance_rate             2013\n",
       "description                       512\n",
       "beds                              245\n",
       "bathrooms_text                     47\n",
       "name                                3\n",
       "availability_30                     0\n",
       "availability_60                     0\n",
       "availability_90                     0\n",
       "dtype: int64"
      ]
     },
     "execution_count": 7,
     "metadata": {},
     "output_type": "execute_result"
    }
   ],
   "source": [
    "df.isnull().sum().sort_values(ascending=False)[:30]"
   ]
  },
  {
   "cell_type": "markdown",
   "metadata": {
    "id": "7BuxUK_Z8laL"
   },
   "source": [
    "# Data Cleaning"
   ]
  },
  {
   "cell_type": "markdown",
   "metadata": {
    "id": "QZgku_5p2N4z"
   },
   "source": [
    "## Change df columns to the correct data type"
   ]
  },
  {
   "cell_type": "markdown",
   "metadata": {
    "id": "n9X4lWIaRvd5"
   },
   "source": [
    "### Date"
   ]
  },
  {
   "cell_type": "code",
   "execution_count": 8,
   "metadata": {
    "colab": {
     "base_uri": "https://localhost:8080/"
    },
    "id": "WLf5b35S11F8",
    "outputId": "7364416e-e3c1-40cb-d8ce-df0b5a34972f"
   },
   "outputs": [
    {
     "name": "stdout",
     "output_type": "stream",
     "text": [
      "<class 'pandas.core.frame.DataFrame'>\n",
      "RangeIndex: 17947 entries, 0 to 17946\n",
      "Data columns (total 3 columns):\n",
      " #   Column        Non-Null Count  Dtype         \n",
      "---  ------        --------------  -----         \n",
      " 0   host_since    17947 non-null  datetime64[ns]\n",
      " 1   first_review  14140 non-null  datetime64[ns]\n",
      " 2   last_review   14140 non-null  datetime64[ns]\n",
      "dtypes: datetime64[ns](3)\n",
      "memory usage: 420.8 KB\n"
     ]
    }
   ],
   "source": [
    "df['host_since'] = pd.to_datetime(df['host_since'])\n",
    "df['first_review'] = pd.to_datetime(df['first_review'])\n",
    "df['last_review'] = pd.to_datetime(df['last_review'])\n",
    "\n",
    "df[['host_since', 'first_review', 'last_review']].info()"
   ]
  },
  {
   "cell_type": "markdown",
   "metadata": {
    "id": "oAQf0yUkR2yr"
   },
   "source": [
    "### Numeric"
   ]
  },
  {
   "cell_type": "code",
   "execution_count": 9,
   "metadata": {
    "id": "kMGP3s1IReim"
   },
   "outputs": [],
   "source": [
    "df['host_response_rate'] = df['host_response_rate'].astype(str).str.replace('%','').astype(float)\n",
    "df['host_acceptance_rate'] = df['host_acceptance_rate'].astype(str).str.replace('%','').astype(float)"
   ]
  },
  {
   "cell_type": "code",
   "execution_count": 10,
   "metadata": {
    "colab": {
     "base_uri": "https://localhost:8080/"
    },
    "id": "iA2my_wsog4T",
    "outputId": "0b6c4bde-9aea-4b84-8300-b1a9eedb58bb"
   },
   "outputs": [],
   "source": [
    "df['price'] = df['price'].str.replace('$','').str.replace(',', '').astype(float)"
   ]
  },
  {
   "cell_type": "code",
   "execution_count": 11,
   "metadata": {
    "colab": {
     "base_uri": "https://localhost:8080/"
    },
    "id": "ULtninCtXJ0c",
    "outputId": "d57469c0-0a41-433f-d8bf-130015d34c10"
   },
   "outputs": [
    {
     "name": "stdout",
     "output_type": "stream",
     "text": [
      "<class 'pandas.core.frame.DataFrame'>\n",
      "RangeIndex: 17947 entries, 0 to 17946\n",
      "Data columns (total 4 columns):\n",
      " #   Column                Non-Null Count  Dtype  \n",
      "---  ------                --------------  -----  \n",
      " 0   bathrooms_text        17882 non-null  float64\n",
      " 1   host_response_rate    15527 non-null  float64\n",
      " 2   host_acceptance_rate  15934 non-null  float64\n",
      " 3   price                 17947 non-null  float64\n",
      "dtypes: float64(4)\n",
      "memory usage: 561.0 KB\n"
     ]
    }
   ],
   "source": [
    "replace_data = { \"bath\": '',\n",
    "                 \"baths\": '',\n",
    "                 \"shared\": '',\n",
    "                 \"Shared\": '',\n",
    "                 \"private\": '',\n",
    "                 \"Private\": '',\n",
    "                 \"Half-\": '',\n",
    "                 \"half-\": '',\n",
    "                 \"s\": '',\n",
    "                \"\": np.nan}\n",
    "\n",
    "df['bathrooms_text'] = df['bathrooms_text'].replace(replace_data,regex=True)\n",
    "df['bathrooms_text'] = pd.to_numeric(df['bathrooms_text'], errors='coerce')\n",
    "df[['bathrooms_text', 'host_response_rate', 'host_acceptance_rate','price']].info()"
   ]
  },
  {
   "cell_type": "markdown",
   "metadata": {
    "id": "4LBbt7wXwEBr"
   },
   "source": [
    "### Boolean"
   ]
  },
  {
   "cell_type": "code",
   "execution_count": 12,
   "metadata": {
    "id": "_k70129wyEz3"
   },
   "outputs": [],
   "source": [
    "def string_to_boolean(series):\n",
    "  series = series.map({'t': True, 'f': False})\n",
    "  return series"
   ]
  },
  {
   "cell_type": "code",
   "execution_count": 13,
   "metadata": {
    "colab": {
     "base_uri": "https://localhost:8080/"
    },
    "id": "GTcGFFLewUEr",
    "outputId": "cf90c02e-74be-4eb3-f136-9058d119c1fb"
   },
   "outputs": [
    {
     "name": "stdout",
     "output_type": "stream",
     "text": [
      "<class 'pandas.core.frame.DataFrame'>\n",
      "RangeIndex: 17947 entries, 0 to 17946\n",
      "Data columns (total 4 columns):\n",
      " #   Column                  Non-Null Count  Dtype\n",
      "---  ------                  --------------  -----\n",
      " 0   host_is_superhost       17947 non-null  bool \n",
      " 1   host_has_profile_pic    17947 non-null  bool \n",
      " 2   host_identity_verified  17947 non-null  bool \n",
      " 3   instant_bookable        17947 non-null  bool \n",
      "dtypes: bool(4)\n",
      "memory usage: 70.2 KB\n"
     ]
    }
   ],
   "source": [
    "df['host_is_superhost'] = string_to_boolean(df['host_is_superhost'])\n",
    "df['host_has_profile_pic'] = string_to_boolean(df['host_has_profile_pic'])\n",
    "df['host_identity_verified'] = string_to_boolean(df['host_identity_verified'])\n",
    "df['instant_bookable'] = string_to_boolean(df['instant_bookable'])\n",
    "\n",
    "df[['host_is_superhost', 'host_has_profile_pic', 'host_identity_verified', 'instant_bookable']].info()"
   ]
  },
  {
   "cell_type": "markdown",
   "metadata": {
    "id": "mwhDU1RA7399"
   },
   "source": [
    "## Removing the HTML codification in the description field"
   ]
  },
  {
   "cell_type": "code",
   "execution_count": 14,
   "metadata": {
    "colab": {
     "base_uri": "https://localhost:8080/",
     "height": 1000
    },
    "id": "lbWBnp-C8_1t",
    "outputId": "115a7d81-3b37-4eda-f7bd-d4bab7947a49"
   },
   "outputs": [
    {
     "data": {
      "text/plain": [
       "'The space LUXURIOUS NEW APT: 1 BDRM- POOL/ GYM/ SPA/ 24-HR SECURITY  Palermo Soho, Buenos Aires  BUILDING DETAILS  Luxury building in the heart of the trendy Palermo Soho 24-hour security  Outdoor pool  FREE Gym and Spa in building (top floor with panoramic view) Lounge/common area for parties and guests with outdoor deck (top floor with panoramic view) Laundry in building  Restaurant on building grounds  Optional house keeping and room service   AREA: PALERMO SOHO  Minutes walking distance from most popular bars, restaurants and boutiques Buenos Aires Eco-Park within walking distance Botanical Garden and magnificent park with lake (“Bosques de Palermo”) within walking distance One block from Santa Fe Avenue and “D Line” subway  All major bus lines within walking distance  APARTMENT DETAILS  Fully Furnished 1 bedroom apartment  Wifi and Cable TV<'"
      ]
     },
     "execution_count": 14,
     "metadata": {},
     "output_type": "execute_result"
    }
   ],
   "source": [
    "df['description'] = df['description'].str.replace('<br />', ' ').str.replace('<b>','').str.replace('</b>', '')\n",
    "df['description'][0]"
   ]
  },
  {
   "cell_type": "markdown",
   "metadata": {
    "id": "xOnQxZM7PYxQ"
   },
   "source": [
    "## Feature engineering"
   ]
  },
  {
   "cell_type": "code",
   "execution_count": 15,
   "metadata": {
    "id": "GxTPFX_50SWy"
   },
   "outputs": [],
   "source": [
    "# Number of characters from the listings name\n",
    "df['len_name'] = df['name'].str.len()"
   ]
  },
  {
   "cell_type": "code",
   "execution_count": 16,
   "metadata": {},
   "outputs": [],
   "source": [
    "# Number of characters from the listings name\n",
    "df['len_description'] = df['description'].str.len()"
   ]
  },
  {
   "cell_type": "code",
   "execution_count": 17,
   "metadata": {},
   "outputs": [],
   "source": [
    "# The host is in Argentina or not\n",
    "df['host_in_argentina'] = np.where(df['host_location'].str.contains('Argentina'), True, False)"
   ]
  },
  {
   "cell_type": "code",
   "execution_count": 18,
   "metadata": {},
   "outputs": [],
   "source": [
    "# If the minimum number of nights is greater than 30, they consider it a long-term rental,\n",
    "# otherwise it is a short-term rental\n",
    "df['rental_type'] = df['minimum_nights'].apply(lambda x: 'short-term' if x < 30 else 'long-term')"
   ]
  },
  {
   "cell_type": "code",
   "execution_count": 19,
   "metadata": {},
   "outputs": [],
   "source": [
    "# To calculate the number of nights that were booked this last 12 months,\n",
    "# I multiply the number of reviews by the minimum number of nights from the listing.\n",
    "df['nights_booked_ltm'] = df['number_of_reviews_ltm'] * df['minimum_nights']"
   ]
  },
  {
   "cell_type": "code",
   "execution_count": 20,
   "metadata": {},
   "outputs": [],
   "source": [
    "# Received income in the last 12 months\n",
    "df['income_ltm'] = df['nights_booked_ltm'] * df['price']"
   ]
  },
  {
   "cell_type": "code",
   "execution_count": 21,
   "metadata": {
    "id": "6MUYaoI3EvxN"
   },
   "outputs": [],
   "source": [
    "# Does the host have one or more listings?\n",
    "listings_by_host = df.groupby('host_id')[['id']].count()\n",
    "listings_by_host['host_type'] = listings_by_host['id'].apply(lambda x: 'multi-listing' if x > 1 else 'single-listing')\n",
    "listings_by_host.reset_index(inplace=True)\n",
    "listings_by_host = listings_by_host.drop(['id'], axis=1)\n",
    "listings_by_host\n",
    "\n",
    "df = pd.merge(df, listings_by_host, how='left', on='host_id')"
   ]
  },
  {
   "cell_type": "markdown",
   "metadata": {
    "id": "t60Fm2XY8Up2"
   },
   "source": [
    "# EDA"
   ]
  },
  {
   "cell_type": "code",
   "execution_count": 22,
   "metadata": {
    "colab": {
     "base_uri": "https://localhost:8080/"
    },
    "id": "9qKa59FFOGNr",
    "outputId": "b1f89d05-a6d3-4afb-cf35-906c9aafdb9c",
    "scrolled": false
   },
   "outputs": [
    {
     "data": {
      "text/plain": [
       "0"
      ]
     },
     "execution_count": 22,
     "metadata": {},
     "output_type": "execute_result"
    }
   ],
   "source": [
    "hosts = df[['host_id', 'host_name', 'host_since','host_in_argentina', 'host_location', 'host_response_time',\n",
    "            'host_response_rate', 'host_acceptance_rate', 'host_is_superhost', 'host_total_listings_count',\n",
    "            'host_has_profile_pic', 'host_identity_verified', 'host_type']]\n",
    "hosts = hosts.drop_duplicates()\n",
    "hosts['host_id'].duplicated().sum()"
   ]
  },
  {
   "cell_type": "code",
   "execution_count": 23,
   "metadata": {
    "scrolled": false
   },
   "outputs": [
    {
     "data": {
      "image/png": "[encoded data removed]",
      "text/plain": [
       "<Figure size 900x600 with 1 Axes>"
      ]
     },
     "metadata": {},
     "output_type": "display_data"
    }
   ],
   "source": [
    "fig, ax = plt.subplots(figsize=(9, 6))\n",
    "q97 = df.loc[:, 'price'].quantile(0.97)\n",
    "data = df[df['price'] < q97]\n",
    "ax.set_title('Price Distribution')\n",
    "ax.set_ylabel('Count')\n",
    "ax.set_xlabel('Price')\n",
    "sns.histplot(data=data, x='price', ax=ax)\n",
    "plt.show()"
   ]
  },
  {
   "cell_type": "code",
   "execution_count": 24,
   "metadata": {
    "colab": {
     "base_uri": "https://localhost:8080/",
     "height": 291
    },
    "id": "mnhZEuYuLjh7",
    "outputId": "320dc1a9-9154-451e-f7f4-b183beed4db8"
   },
   "outputs": [
    {
     "data": {
      "text/html": [
       "<div>\n",
       "<style scoped>\n",
       "    .dataframe tbody tr th:only-of-type {\n",
       "        vertical-align: middle;\n",
       "    }\n",
       "\n",
       "    .dataframe tbody tr th {\n",
       "        vertical-align: top;\n",
       "    }\n",
       "\n",
       "    .dataframe thead th {\n",
       "        text-align: right;\n",
       "    }\n",
       "</style>\n",
       "<table border=\"1\" class=\"dataframe\">\n",
       "  <thead>\n",
       "    <tr style=\"text-align: right;\">\n",
       "      <th></th>\n",
       "      <th>host_response_rate</th>\n",
       "      <th>host_acceptance_rate</th>\n",
       "      <th>host_total_listings_count</th>\n",
       "      <th>price</th>\n",
       "      <th>minimum_nights</th>\n",
       "      <th>maximum_nights</th>\n",
       "      <th>number_of_reviews</th>\n",
       "      <th>reviews_per_month</th>\n",
       "    </tr>\n",
       "  </thead>\n",
       "  <tbody>\n",
       "    <tr>\n",
       "      <th>count</th>\n",
       "      <td>15527.00</td>\n",
       "      <td>15934.00</td>\n",
       "      <td>17947.00</td>\n",
       "      <td>17947.00</td>\n",
       "      <td>17947.00</td>\n",
       "      <td>17947.00</td>\n",
       "      <td>17947.00</td>\n",
       "      <td>14140.00</td>\n",
       "    </tr>\n",
       "    <tr>\n",
       "      <th>mean</th>\n",
       "      <td>91.33</td>\n",
       "      <td>79.73</td>\n",
       "      <td>21.58</td>\n",
       "      <td>11307.99</td>\n",
       "      <td>7.68</td>\n",
       "      <td>592.21</td>\n",
       "      <td>20.99</td>\n",
       "      <td>1.08</td>\n",
       "    </tr>\n",
       "    <tr>\n",
       "      <th>std</th>\n",
       "      <td>23.23</td>\n",
       "      <td>30.03</td>\n",
       "      <td>77.51</td>\n",
       "      <td>154991.57</td>\n",
       "      <td>27.97</td>\n",
       "      <td>895.01</td>\n",
       "      <td>37.82</td>\n",
       "      <td>1.17</td>\n",
       "    </tr>\n",
       "    <tr>\n",
       "      <th>min</th>\n",
       "      <td>0.00</td>\n",
       "      <td>0.00</td>\n",
       "      <td>1.00</td>\n",
       "      <td>260.00</td>\n",
       "      <td>1.00</td>\n",
       "      <td>1.00</td>\n",
       "      <td>0.00</td>\n",
       "      <td>0.01</td>\n",
       "    </tr>\n",
       "    <tr>\n",
       "      <th>25%</th>\n",
       "      <td>99.00</td>\n",
       "      <td>73.00</td>\n",
       "      <td>1.00</td>\n",
       "      <td>4136.00</td>\n",
       "      <td>2.00</td>\n",
       "      <td>90.00</td>\n",
       "      <td>1.00</td>\n",
       "      <td>0.25</td>\n",
       "    </tr>\n",
       "    <tr>\n",
       "      <th>50%</th>\n",
       "      <td>100.00</td>\n",
       "      <td>95.00</td>\n",
       "      <td>3.00</td>\n",
       "      <td>5790.00</td>\n",
       "      <td>3.00</td>\n",
       "      <td>365.00</td>\n",
       "      <td>6.00</td>\n",
       "      <td>0.69</td>\n",
       "    </tr>\n",
       "    <tr>\n",
       "      <th>75%</th>\n",
       "      <td>100.00</td>\n",
       "      <td>100.00</td>\n",
       "      <td>13.00</td>\n",
       "      <td>8685.00</td>\n",
       "      <td>5.00</td>\n",
       "      <td>1125.00</td>\n",
       "      <td>24.00</td>\n",
       "      <td>1.49</td>\n",
       "    </tr>\n",
       "    <tr>\n",
       "      <th>max</th>\n",
       "      <td>100.00</td>\n",
       "      <td>100.00</td>\n",
       "      <td>2365.00</td>\n",
       "      <td>14330511.00</td>\n",
       "      <td>1000.00</td>\n",
       "      <td>99999.00</td>\n",
       "      <td>577.00</td>\n",
       "      <td>12.58</td>\n",
       "    </tr>\n",
       "  </tbody>\n",
       "</table>\n",
       "</div>"
      ],
      "text/plain": [
       "      host_response_rate host_acceptance_rate host_total_listings_count  \\\n",
       "count           15527.00             15934.00                  17947.00   \n",
       "mean               91.33                79.73                     21.58   \n",
       "std                23.23                30.03                     77.51   \n",
       "min                 0.00                 0.00                      1.00   \n",
       "25%                99.00                73.00                      1.00   \n",
       "50%               100.00                95.00                      3.00   \n",
       "75%               100.00               100.00                     13.00   \n",
       "max               100.00               100.00                   2365.00   \n",
       "\n",
       "             price minimum_nights maximum_nights number_of_reviews  \\\n",
       "count     17947.00       17947.00       17947.00          17947.00   \n",
       "mean      11307.99           7.68         592.21             20.99   \n",
       "std      154991.57          27.97         895.01             37.82   \n",
       "min         260.00           1.00           1.00              0.00   \n",
       "25%        4136.00           2.00          90.00              1.00   \n",
       "50%        5790.00           3.00         365.00              6.00   \n",
       "75%        8685.00           5.00        1125.00             24.00   \n",
       "max    14330511.00        1000.00       99999.00            577.00   \n",
       "\n",
       "      reviews_per_month  \n",
       "count          14140.00  \n",
       "mean               1.08  \n",
       "std                1.17  \n",
       "min                0.01  \n",
       "25%                0.25  \n",
       "50%                0.69  \n",
       "75%                1.49  \n",
       "max               12.58  "
      ]
     },
     "execution_count": 24,
     "metadata": {},
     "output_type": "execute_result"
    }
   ],
   "source": [
    "df[['host_response_rate', 'host_acceptance_rate', 'host_total_listings_count',\n",
    "    'price', 'minimum_nights', 'maximum_nights', 'number_of_reviews',\n",
    "    'reviews_per_month']].describe().apply(lambda x: x.apply('{0:.2f}'.format))"
   ]
  },
  {
   "cell_type": "markdown",
   "metadata": {
    "id": "ry5tzGJVNbo_"
   },
   "source": [
    "## Host with 2365 listings"
   ]
  },
  {
   "cell_type": "code",
   "execution_count": 25,
   "metadata": {
    "colab": {
     "base_uri": "https://localhost:8080/",
     "height": 78
    },
    "id": "l66MTB6RPtUU",
    "outputId": "63918aac-8bc2-4d20-adeb-6bf1ee6ed181"
   },
   "outputs": [
    {
     "data": {
      "text/html": [
       "<div>\n",
       "<style scoped>\n",
       "    .dataframe tbody tr th:only-of-type {\n",
       "        vertical-align: middle;\n",
       "    }\n",
       "\n",
       "    .dataframe tbody tr th {\n",
       "        vertical-align: top;\n",
       "    }\n",
       "\n",
       "    .dataframe thead th {\n",
       "        text-align: right;\n",
       "    }\n",
       "</style>\n",
       "<table border=\"1\" class=\"dataframe\">\n",
       "  <thead>\n",
       "    <tr style=\"text-align: right;\">\n",
       "      <th></th>\n",
       "      <th>host_id</th>\n",
       "      <th>host_name</th>\n",
       "      <th>host_since</th>\n",
       "      <th>host_in_argentina</th>\n",
       "      <th>host_location</th>\n",
       "      <th>host_response_time</th>\n",
       "      <th>host_response_rate</th>\n",
       "      <th>host_acceptance_rate</th>\n",
       "      <th>host_is_superhost</th>\n",
       "      <th>host_total_listings_count</th>\n",
       "      <th>host_has_profile_pic</th>\n",
       "      <th>host_identity_verified</th>\n",
       "      <th>host_type</th>\n",
       "    </tr>\n",
       "  </thead>\n",
       "  <tbody>\n",
       "    <tr>\n",
       "      <th>13090</th>\n",
       "      <td>258154594</td>\n",
       "      <td>Atanas</td>\n",
       "      <td>2019-04-26</td>\n",
       "      <td>False</td>\n",
       "      <td>London, United Kingdom</td>\n",
       "      <td>within an hour</td>\n",
       "      <td>90.0</td>\n",
       "      <td>69.0</td>\n",
       "      <td>False</td>\n",
       "      <td>2365</td>\n",
       "      <td>True</td>\n",
       "      <td>True</td>\n",
       "      <td>multi-listing</td>\n",
       "    </tr>\n",
       "  </tbody>\n",
       "</table>\n",
       "</div>"
      ],
      "text/plain": [
       "         host_id host_name host_since  host_in_argentina  \\\n",
       "13090  258154594    Atanas 2019-04-26              False   \n",
       "\n",
       "                host_location host_response_time  host_response_rate  \\\n",
       "13090  London, United Kingdom     within an hour                90.0   \n",
       "\n",
       "       host_acceptance_rate  host_is_superhost  host_total_listings_count  \\\n",
       "13090                  69.0              False                       2365   \n",
       "\n",
       "       host_has_profile_pic  host_identity_verified      host_type  \n",
       "13090                  True                    True  multi-listing  "
      ]
     },
     "execution_count": 25,
     "metadata": {},
     "output_type": "execute_result"
    }
   ],
   "source": [
    "hosts.loc[hosts['host_total_listings_count'] == 2365]"
   ]
  },
  {
   "cell_type": "markdown",
   "metadata": {
    "id": "_jMP17Bg52R1"
   },
   "source": [
    "## Host growth over the years"
   ]
  },
  {
   "cell_type": "code",
   "execution_count": 26,
   "metadata": {
    "colab": {
     "base_uri": "https://localhost:8080/",
     "height": 403
    },
    "id": "yrgy-XQy1vE-",
    "outputId": "aa34b01d-3c87-4dfd-8dca-fe907f160d02"
   },
   "outputs": [
    {
     "data": {
      "image/png": "[encoded data removed]",
      "text/plain": [
       "<Figure size 900x600 with 1 Axes>"
      ]
     },
     "metadata": {},
     "output_type": "display_data"
    }
   ],
   "source": [
    "df_host = hosts[['host_id', 'host_since']]\n",
    "df_host = df_host.set_index('host_since').resample('Y')\n",
    "fig, ax = plt.subplots(1, 1, figsize=(9, 6))\n",
    "ax.set_title(\"Airbnb hosts growth\")\n",
    "ax.set_ylabel('Cumulative hosts')\n",
    "ax.set_xlabel('Year')\n",
    "sns.lineplot(data=np.cumsum(df_host['host_id'].count()), ax=ax)\n",
    "plt.show()"
   ]
  },
  {
   "cell_type": "code",
   "execution_count": 27,
   "metadata": {
    "colab": {
     "base_uri": "https://localhost:8080/"
    },
    "id": "aAtADAy1rqay",
    "outputId": "5c76d527-dfae-4eac-8dbe-454f0af187ef"
   },
   "outputs": [
    {
     "name": "stdout",
     "output_type": "stream",
     "text": [
      "Total users: 10127\n"
     ]
    }
   ],
   "source": [
    "print(f\"Total users: {np.sum(df_host['host_id'].count())}\")"
   ]
  },
  {
   "cell_type": "markdown",
   "metadata": {
    "id": "3pxo7MeoRF-R"
   },
   "source": [
    "## Where the hosts are located?"
   ]
  },
  {
   "cell_type": "code",
   "execution_count": 28,
   "metadata": {
    "colab": {
     "base_uri": "https://localhost:8080/"
    },
    "id": "3vRhLAg9bmRK",
    "outputId": "38cc7c41-dc72-4b50-a752-31d8589d662a"
   },
   "outputs": [
    {
     "data": {
      "text/plain": [
       "True     92.923608\n",
       "False     7.076392\n",
       "Name: host_in_argentina, dtype: float64"
      ]
     },
     "execution_count": 28,
     "metadata": {},
     "output_type": "execute_result"
    }
   ],
   "source": [
    "(df['host_in_argentina'].value_counts()/len(df))*100"
   ]
  },
  {
   "cell_type": "code",
   "execution_count": 29,
   "metadata": {
    "colab": {
     "base_uri": "https://localhost:8080/",
     "height": 389
    },
    "id": "XfQD8ivRZt94",
    "outputId": "0bfea147-40f6-455f-9a26-a43ddcba49a7"
   },
   "outputs": [
    {
     "data": {
      "image/png": "[encoded data removed]",
      "text/plain": [
       "<Figure size 900x600 with 1 Axes>"
      ]
     },
     "metadata": {},
     "output_type": "display_data"
    }
   ],
   "source": [
    "#Hosts outside Argentina\n",
    "fig, ax = plt.subplots(1, 1, figsize=(9, 6))\n",
    "data = (hosts[hosts['host_in_argentina']==False]['host_location'].value_counts(normalize=True)*100).sort_values(ascending=False)[:10]\n",
    "hbars = plt.barh(data.index,data.values)\n",
    "plt.title('Hosts outside Argentina in %')\n",
    "ax.invert_yaxis()\n",
    "ax.bar_label(hbars, fmt='%.2f')\n",
    "plt.show()"
   ]
  },
  {
   "cell_type": "code",
   "execution_count": 30,
   "metadata": {
    "colab": {
     "base_uri": "https://localhost:8080/",
     "height": 389
    },
    "id": "GBCxWLfQXkcy",
    "outputId": "951506eb-bea0-431d-a4a7-b0b8aa110d16"
   },
   "outputs": [
    {
     "data": {
      "image/png": "[encoded data removed]",
      "text/plain": [
       "<Figure size 900x600 with 1 Axes>"
      ]
     },
     "metadata": {},
     "output_type": "display_data"
    }
   ],
   "source": [
    "#Hosts in Argentina\n",
    "fig, ax = plt.subplots(1, 1, figsize=(9, 6))\n",
    "data = (hosts[hosts['host_in_argentina']==True]['host_location'].value_counts(normalize=True)*100).sort_values(ascending=False)[:10]\n",
    "hbars = ax.barh(data.index,data.values)\n",
    "plt.title('Hosts in Argentina in %')\n",
    "ax.invert_yaxis()\n",
    "ax.bar_label(hbars, fmt='%.2f')\n",
    "plt.show()"
   ]
  },
  {
   "cell_type": "markdown",
   "metadata": {
    "id": "tcfNDAz3log0"
   },
   "source": [
    "## Hosts"
   ]
  },
  {
   "cell_type": "code",
   "execution_count": 31,
   "metadata": {
    "colab": {
     "base_uri": "https://localhost:8080/"
    },
    "id": "vWKyQFTUlzxU",
    "outputId": "43042eb0-9f25-4b01-b94b-d22b9f9e9ec9"
   },
   "outputs": [
    {
     "data": {
      "text/plain": [
       "False    73.722628\n",
       "True     26.277372\n",
       "Name: host_is_superhost, dtype: float64"
      ]
     },
     "execution_count": 31,
     "metadata": {},
     "output_type": "execute_result"
    }
   ],
   "source": [
    "data = (df['host_is_superhost'].value_counts(normalize=True)*100).sort_values(ascending=False)\n",
    "data"
   ]
  },
  {
   "cell_type": "code",
   "execution_count": 32,
   "metadata": {
    "colab": {
     "base_uri": "https://localhost:8080/",
     "height": 622
    },
    "id": "YVxRNdoQjYqf",
    "outputId": "8e62f7c6-c5a0-448b-8525-2c05c3a078ed"
   },
   "outputs": [
    {
     "data": {
      "text/plain": [
       "<AxesSubplot:xlabel='host_is_superhost', ylabel='price'>"
      ]
     },
     "execution_count": 32,
     "metadata": {},
     "output_type": "execute_result"
    },
    {
     "data": {
      "image/png": "[encoded data removed]",
      "text/plain": [
       "<Figure size 1000x1000 with 1 Axes>"
      ]
     },
     "metadata": {},
     "output_type": "display_data"
    }
   ],
   "source": [
    "q97 = df.loc[:, 'price'].quantile(0.97)\n",
    "data = df[df['price'] < q97]\n",
    "fig, ax = plt.subplots(1, 1, figsize=(10, 10))\n",
    "sns.boxplot(data=data, y='price', x='host_is_superhost')"
   ]
  },
  {
   "cell_type": "code",
   "execution_count": 33,
   "metadata": {
    "colab": {
     "base_uri": "https://localhost:8080/",
     "height": 622
    },
    "id": "cQqkHUUjoDjv",
    "outputId": "0feb3c0c-ed1f-48d2-a765-754ea3a78c90"
   },
   "outputs": [
    {
     "data": {
      "text/plain": [
       "<AxesSubplot:xlabel='host_is_superhost', ylabel='review_scores_rating'>"
      ]
     },
     "execution_count": 33,
     "metadata": {},
     "output_type": "execute_result"
    },
    {
     "data": {
      "image/png": "[encoded data removed]",
      "text/plain": [
       "<Figure size 1000x1000 with 1 Axes>"
      ]
     },
     "metadata": {},
     "output_type": "display_data"
    }
   ],
   "source": [
    "fig, ax = plt.subplots(1, 1, figsize=(10, 10))\n",
    "sns.boxplot(data=df, y='review_scores_rating', x='host_is_superhost')"
   ]
  },
  {
   "cell_type": "code",
   "execution_count": 34,
   "metadata": {
    "colab": {
     "base_uri": "https://localhost:8080/",
     "height": 389
    },
    "id": "ITB32b0Jto2H",
    "outputId": "c5b1df24-f939-41e3-80d7-fd60f1f8d49b"
   },
   "outputs": [
    {
     "data": {
      "image/png": "[encoded data removed]",
      "text/plain": [
       "<Figure size 900x600 with 1 Axes>"
      ]
     },
     "metadata": {},
     "output_type": "display_data"
    }
   ],
   "source": [
    "fig, ax = plt.subplots(1, 1, figsize=(9, 6))\n",
    "data = (hosts['host_type'].value_counts(normalize=True)*100).sort_values(ascending=False)\n",
    "hbars = plt.barh(data.index,data.values)\n",
    "plt.title('Hosts type in %')\n",
    "ax.invert_yaxis()\n",
    "ax.bar_label(hbars, fmt='%.2f')\n",
    "plt.show()"
   ]
  },
  {
   "cell_type": "code",
   "execution_count": 35,
   "metadata": {
    "colab": {
     "base_uri": "https://localhost:8080/",
     "height": 623
    },
    "id": "quXH-gHu32J0",
    "outputId": "c107466b-b28e-4da2-e5bd-6df81c36d094"
   },
   "outputs": [
    {
     "data": {
      "image/png": "[encoded data removed]",
      "text/plain": [
       "<Figure size 2000x1000 with 1 Axes>"
      ]
     },
     "metadata": {},
     "output_type": "display_data"
    }
   ],
   "source": [
    "fig, ax = plt.subplots(1, 1, figsize=(20, 10))\n",
    "bins = [1,2,3,4,5,6,7,8,9,10,11,12,13,14,15]\n",
    "plt.hist(data=hosts, x='host_total_listings_count', bins=bins, rwidth=0.5)\n",
    "ax.set_ylabel('Listings')\n",
    "ax.set_xlabel('Listings per Host')\n",
    "plt.title('Listings per Host')\n",
    "plt.show()"
   ]
  },
  {
   "cell_type": "markdown",
   "metadata": {
    "id": "AAkXn3QXgZj4"
   },
   "source": [
    "## Types of listings"
   ]
  },
  {
   "cell_type": "code",
   "execution_count": 36,
   "metadata": {
    "colab": {
     "base_uri": "https://localhost:8080/"
    },
    "id": "17ia9vw6gZAX",
    "outputId": "f253cc49-265f-48d3-cfbe-2db64f63dcbc"
   },
   "outputs": [
    {
     "data": {
      "text/plain": [
       "Entire home/apt    15603\n",
       "Private room        2030\n",
       "Shared room          194\n",
       "Hotel room           120\n",
       "Name: room_type, dtype: int64"
      ]
     },
     "execution_count": 36,
     "metadata": {},
     "output_type": "execute_result"
    }
   ],
   "source": [
    "df['room_type'].value_counts()"
   ]
  },
  {
   "cell_type": "code",
   "execution_count": 37,
   "metadata": {
    "colab": {
     "base_uri": "https://localhost:8080/",
     "height": 389
    },
    "id": "f9WVSMeCWGQE",
    "outputId": "923a2be7-c67e-4c88-81a0-88eff717dcac"
   },
   "outputs": [
    {
     "data": {
      "image/png": "[encoded data removed]",
      "text/plain": [
       "<Figure size 900x600 with 1 Axes>"
      ]
     },
     "metadata": {},
     "output_type": "display_data"
    }
   ],
   "source": [
    "fig, ax = plt.subplots(1, 1, figsize=(9, 6))\n",
    "data = (df['room_type'].value_counts(normalize=True)*100).sort_values(ascending=False)\n",
    "hbars = ax.barh(data.index,data.values)\n",
    "plt.title('Listings by type in %')\n",
    "ax.invert_yaxis()\n",
    "ax.bar_label(hbars, fmt='%.2f')\n",
    "plt.show()"
   ]
  },
  {
   "cell_type": "code",
   "execution_count": 38,
   "metadata": {
    "colab": {
     "base_uri": "https://localhost:8080/",
     "height": 622
    },
    "id": "N7ACbUxTtvJF",
    "outputId": "486bc2f7-30e2-48d5-d435-39ad887c18e4"
   },
   "outputs": [
    {
     "data": {
      "text/plain": [
       "<AxesSubplot:xlabel='room_type', ylabel='price'>"
      ]
     },
     "execution_count": 38,
     "metadata": {},
     "output_type": "execute_result"
    },
    {
     "data": {
      "image/png": "[encoded data removed]",
      "text/plain": [
       "<Figure size 2000x1000 with 1 Axes>"
      ]
     },
     "metadata": {},
     "output_type": "display_data"
    }
   ],
   "source": [
    "# I kept the values under the 99th percentile,\n",
    "# so I could avoid outliers and see how the price behaves in the various categories.\n",
    "q99 = df.loc[:, 'price'].quantile(0.99)\n",
    "data = df[df['price'] < q99]\n",
    "fig, ax = plt.subplots(1, 1, figsize=(20, 10))\n",
    "sns.boxplot(x='room_type', y='price', data=data)"
   ]
  },
  {
   "cell_type": "code",
   "execution_count": 39,
   "metadata": {
    "colab": {
     "base_uri": "https://localhost:8080/",
     "height": 622
    },
    "id": "Czd9yC1BN9a5",
    "outputId": "e1b16f6f-9de8-4219-99a4-01cbc005608a"
   },
   "outputs": [
    {
     "data": {
      "text/plain": [
       "<AxesSubplot:xlabel='room_type', ylabel='number_of_reviews'>"
      ]
     },
     "execution_count": 39,
     "metadata": {},
     "output_type": "execute_result"
    },
    {
     "data": {
      "image/png": "[encoded data removed]",
      "text/plain": [
       "<Figure size 3000x1500 with 1 Axes>"
      ]
     },
     "metadata": {},
     "output_type": "display_data"
    }
   ],
   "source": [
    "# Same criteria but with the 97th percentile\n",
    "q97 = df.loc[:, 'number_of_reviews'].quantile(0.97)\n",
    "data = df[df['number_of_reviews'] < q97]\n",
    "fig, ax = plt.subplots(1, 1, figsize=(30, 15))\n",
    "sns.boxplot(x='room_type', y='number_of_reviews', data=data)"
   ]
  },
  {
   "cell_type": "markdown",
   "metadata": {
    "id": "Uj93CcsdDAPP"
   },
   "source": [
    "## Types of listings by neighborhood"
   ]
  },
  {
   "cell_type": "code",
   "execution_count": 40,
   "metadata": {
    "colab": {
     "base_uri": "https://localhost:8080/",
     "height": 383
    },
    "id": "JWjrgC_3DJa-",
    "outputId": "def7bed2-2eab-4582-8ee0-4c4d24cf0f25"
   },
   "outputs": [
    {
     "data": {
      "text/html": [
       "<div>\n",
       "<style scoped>\n",
       "    .dataframe tbody tr th:only-of-type {\n",
       "        vertical-align: middle;\n",
       "    }\n",
       "\n",
       "    .dataframe tbody tr th {\n",
       "        vertical-align: top;\n",
       "    }\n",
       "\n",
       "    .dataframe thead th {\n",
       "        text-align: right;\n",
       "    }\n",
       "</style>\n",
       "<table border=\"1\" class=\"dataframe\">\n",
       "  <thead>\n",
       "    <tr style=\"text-align: right;\">\n",
       "      <th>room_type</th>\n",
       "      <th>Entire home/apt</th>\n",
       "      <th>Hotel room</th>\n",
       "      <th>Private room</th>\n",
       "      <th>Shared room</th>\n",
       "      <th>Total</th>\n",
       "    </tr>\n",
       "    <tr>\n",
       "      <th>neighbourhood_cleansed</th>\n",
       "      <th></th>\n",
       "      <th></th>\n",
       "      <th></th>\n",
       "      <th></th>\n",
       "      <th></th>\n",
       "    </tr>\n",
       "  </thead>\n",
       "  <tbody>\n",
       "    <tr>\n",
       "      <th>Palermo</th>\n",
       "      <td>5659.0</td>\n",
       "      <td>24.0</td>\n",
       "      <td>381.0</td>\n",
       "      <td>21.0</td>\n",
       "      <td>6085.0</td>\n",
       "    </tr>\n",
       "    <tr>\n",
       "      <th>Recoleta</th>\n",
       "      <td>2481.0</td>\n",
       "      <td>55.0</td>\n",
       "      <td>185.0</td>\n",
       "      <td>37.0</td>\n",
       "      <td>2758.0</td>\n",
       "    </tr>\n",
       "    <tr>\n",
       "      <th>San Nicolas</th>\n",
       "      <td>938.0</td>\n",
       "      <td>6.0</td>\n",
       "      <td>103.0</td>\n",
       "      <td>19.0</td>\n",
       "      <td>1066.0</td>\n",
       "    </tr>\n",
       "    <tr>\n",
       "      <th>Retiro</th>\n",
       "      <td>809.0</td>\n",
       "      <td>3.0</td>\n",
       "      <td>66.0</td>\n",
       "      <td>2.0</td>\n",
       "      <td>880.0</td>\n",
       "    </tr>\n",
       "    <tr>\n",
       "      <th>Belgrano</th>\n",
       "      <td>771.0</td>\n",
       "      <td>0.0</td>\n",
       "      <td>89.0</td>\n",
       "      <td>11.0</td>\n",
       "      <td>871.0</td>\n",
       "    </tr>\n",
       "    <tr>\n",
       "      <th>Monserrat</th>\n",
       "      <td>467.0</td>\n",
       "      <td>15.0</td>\n",
       "      <td>150.0</td>\n",
       "      <td>18.0</td>\n",
       "      <td>650.0</td>\n",
       "    </tr>\n",
       "    <tr>\n",
       "      <th>Almagro</th>\n",
       "      <td>513.0</td>\n",
       "      <td>1.0</td>\n",
       "      <td>126.0</td>\n",
       "      <td>4.0</td>\n",
       "      <td>644.0</td>\n",
       "    </tr>\n",
       "    <tr>\n",
       "      <th>Balvanera</th>\n",
       "      <td>420.0</td>\n",
       "      <td>2.0</td>\n",
       "      <td>155.0</td>\n",
       "      <td>12.0</td>\n",
       "      <td>589.0</td>\n",
       "    </tr>\n",
       "    <tr>\n",
       "      <th>Villa Crespo</th>\n",
       "      <td>447.0</td>\n",
       "      <td>1.0</td>\n",
       "      <td>100.0</td>\n",
       "      <td>7.0</td>\n",
       "      <td>555.0</td>\n",
       "    </tr>\n",
       "    <tr>\n",
       "      <th>Nuñez</th>\n",
       "      <td>451.0</td>\n",
       "      <td>2.0</td>\n",
       "      <td>49.0</td>\n",
       "      <td>1.0</td>\n",
       "      <td>503.0</td>\n",
       "    </tr>\n",
       "  </tbody>\n",
       "</table>\n",
       "</div>"
      ],
      "text/plain": [
       "room_type               Entire home/apt  Hotel room  Private room  \\\n",
       "neighbourhood_cleansed                                              \n",
       "Palermo                          5659.0        24.0         381.0   \n",
       "Recoleta                         2481.0        55.0         185.0   \n",
       "San Nicolas                       938.0         6.0         103.0   \n",
       "Retiro                            809.0         3.0          66.0   \n",
       "Belgrano                          771.0         0.0          89.0   \n",
       "Monserrat                         467.0        15.0         150.0   \n",
       "Almagro                           513.0         1.0         126.0   \n",
       "Balvanera                         420.0         2.0         155.0   \n",
       "Villa Crespo                      447.0         1.0         100.0   \n",
       "Nuñez                             451.0         2.0          49.0   \n",
       "\n",
       "room_type               Shared room   Total  \n",
       "neighbourhood_cleansed                       \n",
       "Palermo                        21.0  6085.0  \n",
       "Recoleta                       37.0  2758.0  \n",
       "San Nicolas                    19.0  1066.0  \n",
       "Retiro                          2.0   880.0  \n",
       "Belgrano                       11.0   871.0  \n",
       "Monserrat                      18.0   650.0  \n",
       "Almagro                         4.0   644.0  \n",
       "Balvanera                      12.0   589.0  \n",
       "Villa Crespo                    7.0   555.0  \n",
       "Nuñez                           1.0   503.0  "
      ]
     },
     "execution_count": 40,
     "metadata": {},
     "output_type": "execute_result"
    }
   ],
   "source": [
    "data = df.groupby(['neighbourhood_cleansed', 'room_type'])['id'].count()\n",
    "data = pd.DataFrame(data)\n",
    "data.reset_index(inplace=True)\n",
    "data = pd.pivot_table(data, index='neighbourhood_cleansed', columns='room_type', values='id')\n",
    "data = data.fillna(0)\n",
    "data['Total'] = data['Entire home/apt'] + data['Hotel room'] + data['Private room'] + data['Shared room']\n",
    "data.sort_values(by='Total', ascending=False)[:10]\n"
   ]
  },
  {
   "cell_type": "markdown",
   "metadata": {
    "id": "v_EIUwdgyIFZ"
   },
   "source": [
    "## Neighborhood"
   ]
  },
  {
   "cell_type": "code",
   "execution_count": 41,
   "metadata": {
    "colab": {
     "base_uri": "https://localhost:8080/",
     "height": 389
    },
    "id": "ngE7Fxd9TvbZ",
    "outputId": "52603416-e58f-460e-a64d-8fb52b8556fc"
   },
   "outputs": [
    {
     "data": {
      "image/png": "[encoded data removed]",
      "text/plain": [
       "<Figure size 900x600 with 1 Axes>"
      ]
     },
     "metadata": {},
     "output_type": "display_data"
    }
   ],
   "source": [
    "fig, ax = plt.subplots(1, 1, figsize=(9, 6))\n",
    "data = df['neighbourhood_cleansed'].value_counts().sort_values(ascending=False)[:10]\n",
    "hbars = ax.barh(data.index,data.values)\n",
    "plt.title('Number of listings by neighbourhood')\n",
    "ax.invert_yaxis()\n",
    "ax.bar_label(hbars)\n",
    "plt.show()"
   ]
  },
  {
   "cell_type": "code",
   "execution_count": 42,
   "metadata": {
    "colab": {
     "base_uri": "https://localhost:8080/"
    },
    "id": "hCqAr9WqHda7",
    "outputId": "2593832b-0232-4e89-bb45-4ecd0191dca6"
   },
   "outputs": [
    {
     "data": {
      "text/plain": [
       "array(['Palermo', 'Recoleta', 'Almagro', 'San Nicolas', 'Belgrano',\n",
       "       'Nuñez', 'Monserrat', 'Balvanera', 'Villa Crespo', 'Retiro'],\n",
       "      dtype=object)"
      ]
     },
     "execution_count": 42,
     "metadata": {},
     "output_type": "execute_result"
    }
   ],
   "source": [
    "neighborhoods_most_listed = ['Palermo', 'Recoleta', 'San Nicolas', 'Retiro',\n",
    "                             'Belgrano', 'Monserrat', 'Almagro', 'Balvanera',\n",
    "                             'Villa Crespo', 'Nuñez']\n",
    "data = df[df['neighbourhood_cleansed'].isin(neighborhoods_most_listed)]\n",
    "data['neighbourhood_cleansed'].unique()"
   ]
  },
  {
   "cell_type": "code",
   "execution_count": 43,
   "metadata": {
    "colab": {
     "base_uri": "https://localhost:8080/",
     "height": 637
    },
    "id": "lLibquMzK0eh",
    "outputId": "444bc0af-2f27-4ec6-bfe7-dc84c2248c56"
   },
   "outputs": [
    {
     "data": {
      "text/plain": [
       "Text(0.5, 1.0, 'Price distribution by neighbourhood')"
      ]
     },
     "execution_count": 43,
     "metadata": {},
     "output_type": "execute_result"
    },
    {
     "data": {
      "image/png": "[encoded data removed]",
      "text/plain": [
       "<Figure size 2000x1000 with 1 Axes>"
      ]
     },
     "metadata": {},
     "output_type": "display_data"
    }
   ],
   "source": [
    "q99 = data.loc[:, 'price'].quantile(0.99)\n",
    "data = data[data['price'] < q99]\n",
    "fig, ax = plt.subplots(1, 1, figsize=(20, 10))\n",
    "sns.boxplot(x='neighbourhood_cleansed', y='price', data=data)\n",
    "ax.set_ylabel('Price')\n",
    "ax.set_xlabel('Neighbourhood')\n",
    "plt.title('Price distribution by neighbourhood')"
   ]
  },
  {
   "cell_type": "code",
   "execution_count": 44,
   "metadata": {
    "colab": {
     "base_uri": "https://localhost:8080/"
    },
    "id": "bAWkl091Yslj",
    "outputId": "fef87c96-3593-46c3-81fb-88a5355fa921"
   },
   "outputs": [
    {
     "name": "stdout",
     "output_type": "stream",
     "text": [
      "The average price per night is $11307.99\n"
     ]
    }
   ],
   "source": [
    "print(f\"The average price per night is ${round(df['price'].mean(),2)}\")"
   ]
  },
  {
   "cell_type": "code",
   "execution_count": 45,
   "metadata": {
    "colab": {
     "base_uri": "https://localhost:8080/",
     "height": 383
    },
    "id": "FmP1zDJcV9XQ",
    "outputId": "701ac925-5a97-4700-bcbb-cc72d40cc12c"
   },
   "outputs": [
    {
     "data": {
      "text/html": [
       "<div>\n",
       "<style scoped>\n",
       "    .dataframe tbody tr th:only-of-type {\n",
       "        vertical-align: middle;\n",
       "    }\n",
       "\n",
       "    .dataframe tbody tr th {\n",
       "        vertical-align: top;\n",
       "    }\n",
       "\n",
       "    .dataframe thead tr th {\n",
       "        text-align: left;\n",
       "    }\n",
       "</style>\n",
       "<table border=\"1\" class=\"dataframe\">\n",
       "  <thead>\n",
       "    <tr>\n",
       "      <th></th>\n",
       "      <th>neighbourhood_cleansed</th>\n",
       "      <th colspan=\"3\" halign=\"left\">price</th>\n",
       "      <th>id</th>\n",
       "    </tr>\n",
       "    <tr>\n",
       "      <th></th>\n",
       "      <th></th>\n",
       "      <th>min</th>\n",
       "      <th>max</th>\n",
       "      <th>mean</th>\n",
       "      <th>count</th>\n",
       "    </tr>\n",
       "  </thead>\n",
       "  <tbody>\n",
       "    <tr>\n",
       "      <th>12</th>\n",
       "      <td>Dique 1</td>\n",
       "      <td>6800.0</td>\n",
       "      <td>49216.0</td>\n",
       "      <td>19470.666667</td>\n",
       "      <td>6</td>\n",
       "    </tr>\n",
       "    <tr>\n",
       "      <th>15</th>\n",
       "      <td>Dique 4</td>\n",
       "      <td>5066.0</td>\n",
       "      <td>47143.0</td>\n",
       "      <td>18211.428571</td>\n",
       "      <td>7</td>\n",
       "    </tr>\n",
       "    <tr>\n",
       "      <th>14</th>\n",
       "      <td>Dique 3</td>\n",
       "      <td>6928.0</td>\n",
       "      <td>28951.0</td>\n",
       "      <td>17450.666667</td>\n",
       "      <td>6</td>\n",
       "    </tr>\n",
       "    <tr>\n",
       "      <th>30</th>\n",
       "      <td>Puerto Madero</td>\n",
       "      <td>2000.0</td>\n",
       "      <td>48657.0</td>\n",
       "      <td>16324.168950</td>\n",
       "      <td>219</td>\n",
       "    </tr>\n",
       "    <tr>\n",
       "      <th>17</th>\n",
       "      <td>Floresta</td>\n",
       "      <td>1065.0</td>\n",
       "      <td>42000.0</td>\n",
       "      <td>14580.250000</td>\n",
       "      <td>28</td>\n",
       "    </tr>\n",
       "    <tr>\n",
       "      <th>13</th>\n",
       "      <td>Dique 2</td>\n",
       "      <td>4301.0</td>\n",
       "      <td>28951.0</td>\n",
       "      <td>14024.650000</td>\n",
       "      <td>20</td>\n",
       "    </tr>\n",
       "    <tr>\n",
       "      <th>47</th>\n",
       "      <td>Villa Real</td>\n",
       "      <td>963.0</td>\n",
       "      <td>43426.0</td>\n",
       "      <td>10086.625000</td>\n",
       "      <td>8</td>\n",
       "    </tr>\n",
       "    <tr>\n",
       "      <th>24</th>\n",
       "      <td>Palermo</td>\n",
       "      <td>600.0</td>\n",
       "      <td>50374.0</td>\n",
       "      <td>8465.889499</td>\n",
       "      <td>6009</td>\n",
       "    </tr>\n",
       "    <tr>\n",
       "      <th>44</th>\n",
       "      <td>Villa Luro</td>\n",
       "      <td>1440.0</td>\n",
       "      <td>35000.0</td>\n",
       "      <td>8341.466667</td>\n",
       "      <td>15</td>\n",
       "    </tr>\n",
       "    <tr>\n",
       "      <th>31</th>\n",
       "      <td>Recoleta</td>\n",
       "      <td>400.0</td>\n",
       "      <td>50000.0</td>\n",
       "      <td>7984.743431</td>\n",
       "      <td>2740</td>\n",
       "    </tr>\n",
       "  </tbody>\n",
       "</table>\n",
       "</div>"
      ],
      "text/plain": [
       "   neighbourhood_cleansed   price                           id\n",
       "                              min      max          mean count\n",
       "12                Dique 1  6800.0  49216.0  19470.666667     6\n",
       "15                Dique 4  5066.0  47143.0  18211.428571     7\n",
       "14                Dique 3  6928.0  28951.0  17450.666667     6\n",
       "30          Puerto Madero  2000.0  48657.0  16324.168950   219\n",
       "17               Floresta  1065.0  42000.0  14580.250000    28\n",
       "13                Dique 2  4301.0  28951.0  14024.650000    20\n",
       "47             Villa Real   963.0  43426.0  10086.625000     8\n",
       "24                Palermo   600.0  50374.0   8465.889499  6009\n",
       "44             Villa Luro  1440.0  35000.0   8341.466667    15\n",
       "31               Recoleta   400.0  50000.0   7984.743431  2740"
      ]
     },
     "execution_count": 45,
     "metadata": {},
     "output_type": "execute_result"
    }
   ],
   "source": [
    "# Average price by neighbourhood\n",
    "q99 = df.loc[:, 'price'].quantile(0.99)\n",
    "data = df[df['price'] < q99]\n",
    "data = data.groupby(['neighbourhood_cleansed']).agg({'price': ['min', 'max', 'mean'], 'id': 'count'})\n",
    "data = pd.DataFrame(data)\n",
    "data.reset_index(inplace=True)\n",
    "data = data.fillna(0)\n",
    "data.sort_values(by=[('price','mean')], ascending=False)[:10]"
   ]
  },
  {
   "cell_type": "code",
   "execution_count": 46,
   "metadata": {
    "colab": {
     "base_uri": "https://localhost:8080/",
     "height": 352
    },
    "id": "7mWmYLxMoabi",
    "outputId": "51094dcc-b4f5-4bd5-c36e-af7492561de3"
   },
   "outputs": [
    {
     "data": {
      "text/html": [
       "<div>\n",
       "<style scoped>\n",
       "    .dataframe tbody tr th:only-of-type {\n",
       "        vertical-align: middle;\n",
       "    }\n",
       "\n",
       "    .dataframe tbody tr th {\n",
       "        vertical-align: top;\n",
       "    }\n",
       "\n",
       "    .dataframe thead th {\n",
       "        text-align: right;\n",
       "    }\n",
       "</style>\n",
       "<table border=\"1\" class=\"dataframe\">\n",
       "  <thead>\n",
       "    <tr style=\"text-align: right;\">\n",
       "      <th></th>\n",
       "      <th>neighbourhood_cleansed</th>\n",
       "      <th>review_scores_rating</th>\n",
       "    </tr>\n",
       "  </thead>\n",
       "  <tbody>\n",
       "    <tr>\n",
       "      <th>21</th>\n",
       "      <td>Monte Castro</td>\n",
       "      <td>5.000000</td>\n",
       "    </tr>\n",
       "    <tr>\n",
       "      <th>12</th>\n",
       "      <td>Dique 1</td>\n",
       "      <td>4.950000</td>\n",
       "    </tr>\n",
       "    <tr>\n",
       "      <th>19</th>\n",
       "      <td>Mataderos</td>\n",
       "      <td>4.926667</td>\n",
       "    </tr>\n",
       "    <tr>\n",
       "      <th>44</th>\n",
       "      <td>Villa Luro</td>\n",
       "      <td>4.923636</td>\n",
       "    </tr>\n",
       "    <tr>\n",
       "      <th>27</th>\n",
       "      <td>Parque Chas</td>\n",
       "      <td>4.897895</td>\n",
       "    </tr>\n",
       "    <tr>\n",
       "      <th>0</th>\n",
       "      <td>Agronomia</td>\n",
       "      <td>4.888667</td>\n",
       "    </tr>\n",
       "    <tr>\n",
       "      <th>38</th>\n",
       "      <td>Versalles</td>\n",
       "      <td>4.880000</td>\n",
       "    </tr>\n",
       "    <tr>\n",
       "      <th>45</th>\n",
       "      <td>Villa Ortuzar</td>\n",
       "      <td>4.879091</td>\n",
       "    </tr>\n",
       "    <tr>\n",
       "      <th>42</th>\n",
       "      <td>Villa Gral. Mitre</td>\n",
       "      <td>4.872000</td>\n",
       "    </tr>\n",
       "    <tr>\n",
       "      <th>49</th>\n",
       "      <td>Villa Santa Rita</td>\n",
       "      <td>4.869474</td>\n",
       "    </tr>\n",
       "  </tbody>\n",
       "</table>\n",
       "</div>"
      ],
      "text/plain": [
       "   neighbourhood_cleansed  review_scores_rating\n",
       "21           Monte Castro              5.000000\n",
       "12                Dique 1              4.950000\n",
       "19              Mataderos              4.926667\n",
       "44             Villa Luro              4.923636\n",
       "27            Parque Chas              4.897895\n",
       "0               Agronomia              4.888667\n",
       "38              Versalles              4.880000\n",
       "45          Villa Ortuzar              4.879091\n",
       "42      Villa Gral. Mitre              4.872000\n",
       "49       Villa Santa Rita              4.869474"
      ]
     },
     "execution_count": 46,
     "metadata": {},
     "output_type": "execute_result"
    }
   ],
   "source": [
    "# Best reted neighbourhoods\n",
    "data = pd.DataFrame(df.groupby('neighbourhood_cleansed')['review_scores_rating'].mean())\n",
    "data.reset_index(inplace=True)\n",
    "data.sort_values(by='review_scores_rating', ascending=False)[:10]"
   ]
  },
  {
   "cell_type": "code",
   "execution_count": 47,
   "metadata": {
    "id": "TZnG8novxChH"
   },
   "outputs": [],
   "source": [
    "data = df.groupby(['neighbourhood_cleansed']).agg({'price': 'mean', 'review_scores_rating': 'mean'})\n",
    "data = pd.DataFrame(data)\n",
    "data.reset_index(inplace=True)\n",
    "data = data.fillna(0)\n",
    "data['price/rating'] = round(data['price'] / data['review_scores_rating'],0)\n",
    "data = data.sort_values(by=['price/rating'])[:10]"
   ]
  },
  {
   "cell_type": "code",
   "execution_count": 48,
   "metadata": {
    "colab": {
     "base_uri": "https://localhost:8080/",
     "height": 389
    },
    "id": "kJ6fJlHMz1r4",
    "outputId": "68ca3d2b-cff1-4e5a-b2ab-3d9e05698ad7"
   },
   "outputs": [
    {
     "data": {
      "image/png": "[encoded data removed]",
      "text/plain": [
       "<Figure size 900x600 with 1 Axes>"
      ]
     },
     "metadata": {},
     "output_type": "display_data"
    }
   ],
   "source": [
    "fig, ax = plt.subplots(1, 1, figsize=(9, 6))\n",
    "hbars = ax.barh(data['neighbourhood_cleansed'],data['price/rating'])\n",
    "plt.title('Neighbourhoods with the best price-rating ratio')\n",
    "ax.set_xlabel('Each value represents the amount of money people have to pay for a star (on average)')\n",
    "ax.invert_yaxis()\n",
    "ax.bar_label(hbars)\n",
    "plt.show()"
   ]
  },
  {
   "cell_type": "markdown",
   "metadata": {
    "id": "MXPh7dEZ12kM"
   },
   "source": [
    "## Amenities Analysis"
   ]
  },
  {
   "cell_type": "code",
   "execution_count": 49,
   "metadata": {
    "colab": {
     "base_uri": "https://localhost:8080/",
     "height": 83
    },
    "id": "MqxNxge9u6KH",
    "outputId": "064e008a-5869-439f-c67b-69422a8cc70f"
   },
   "outputs": [
    {
     "data": {
      "text/plain": [
       "'[\"Shared fenced garden or backyard\", \"Elevator\", \"Drying rack for clothing\", \"Wine glasses\", \"Host greets you\", \"Refrigerator\", \"Shared hot tub - open specific hours\", \"Heating\", \"Dining table\", \"Private entrance\", \"Essentials\", \"Single level home\", \"Bidet\", \"Hangers\", \"Oven\", \"Cleaning products\", \"Outdoor furniture\", \"Freezer\", \"Microwave\", \"Cable TV\", \"Body soap\", \"Air conditioning\", \"Hot water\", \"Extra pillows and blankets\", \"TV with standard cable\", \"Wifi\", \"Dishes and silverware\", \"Shared sauna\", \"Toaster\", \"Gym\", \"Stove\", \"Paid street parking off premises\", \"Shared pool\", \"Long term stays allowed\", \"Iron\", \"Kitchen\", \"Paid washer \\\\u2013 In building\", \"Laundromat nearby\", \"Bathtub\", \"Room-darkening shades\", \"Hair dryer\", \"Bed linens\", \"Safe\", \"Coffee maker\", \"Cooking basics\", \"Private patio or balcony\", \"Clothing storage: dresser and closet\", \"Paid dryer \\\\u2013 In building\"]'"
      ]
     },
     "execution_count": 49,
     "metadata": {},
     "output_type": "execute_result"
    }
   ],
   "source": [
    "df['amenities'][0]"
   ]
  },
  {
   "cell_type": "code",
   "execution_count": 50,
   "metadata": {
    "colab": {
     "base_uri": "https://localhost:8080/"
    },
    "id": "OMyO3L9ntvG7",
    "outputId": "e77aa916-1a44-49a0-8e4e-14b056a47841"
   },
   "outputs": [
    {
     "data": {
      "text/plain": [
       "[['Shared fenced garden or backyard',\n",
       "  ' Elevator',\n",
       "  ' Drying rack for clothing',\n",
       "  ' Wine glasses',\n",
       "  ' Host greets you',\n",
       "  ' Refrigerator',\n",
       "  ' Shared hot tub - open specific hours',\n",
       "  ' Heating',\n",
       "  ' Dining table',\n",
       "  ' Private entrance',\n",
       "  ' Essentials',\n",
       "  ' Single level home',\n",
       "  ' Bidet',\n",
       "  ' Hangers',\n",
       "  ' Oven',\n",
       "  ' Cleaning products',\n",
       "  ' Outdoor furniture',\n",
       "  ' Freezer',\n",
       "  ' Microwave',\n",
       "  ' Cable TV',\n",
       "  ' Body soap',\n",
       "  ' Air conditioning',\n",
       "  ' Hot water',\n",
       "  ' Extra pillows and blankets',\n",
       "  ' TV with standard cable',\n",
       "  ' Wifi',\n",
       "  ' Dishes and silverware',\n",
       "  ' Shared sauna',\n",
       "  ' Toaster',\n",
       "  ' Gym',\n",
       "  ' Stove',\n",
       "  ' Paid street parking off premises',\n",
       "  ' Shared pool',\n",
       "  ' Long term stays allowed',\n",
       "  ' Iron',\n",
       "  ' Kitchen',\n",
       "  ' Paid washer \\\\u2013 In building',\n",
       "  ' Laundromat nearby',\n",
       "  ' Bathtub',\n",
       "  ' Room-darkening shades',\n",
       "  ' Hair dryer',\n",
       "  ' Bed linens',\n",
       "  ' Safe',\n",
       "  ' Coffee maker',\n",
       "  ' Cooking basics',\n",
       "  ' Private patio or balcony',\n",
       "  ' Clothing storage: dresser and closet',\n",
       "  ' Paid dryer \\\\u2013 In building'],\n",
       " ['Pack \\\\u2019n play/Travel crib',\n",
       "  ' Refrigerator',\n",
       "  ' Heating',\n",
       "  ' Dining table',\n",
       "  ' Essentials',\n",
       "  ' Bidet',\n",
       "  ' Hangers',\n",
       "  ' Oven',\n",
       "  ' Microwave',\n",
       "  ' Clothing storage: closet',\n",
       "  ' Cable TV',\n",
       "  ' Baking sheet',\n",
       "  ' Air conditioning',\n",
       "  ' Hot water',\n",
       "  ' Extra pillows and blankets',\n",
       "  ' TV with standard cable',\n",
       "  ' Wifi',\n",
       "  ' Dishes and silverware',\n",
       "  ' Children\\\\u2019s books and toys',\n",
       "  ' Toaster',\n",
       "  ' Stove',\n",
       "  ' Jabon body soap',\n",
       "  ' Long term stays allowed',\n",
       "  ' Kitchen',\n",
       "  ' Bathtub',\n",
       "  ' Room-darkening shades',\n",
       "  ' Hair dryer',\n",
       "  ' Crib - available upon request',\n",
       "  ' Bed linens',\n",
       "  ' Coffee maker',\n",
       "  ' Cooking basics',\n",
       "  ' Private garden or backyard',\n",
       "  ' Private patio or balcony',\n",
       "  ' Hot water kettle']]"
      ]
     },
     "execution_count": 50,
     "metadata": {},
     "output_type": "execute_result"
    }
   ],
   "source": [
    "# Cleaning the df column\n",
    "corpus = list(df['amenities'].str.replace('[','').str.replace(']','').str.replace('\"','').str.split(','))\n",
    "corpus[:2]"
   ]
  },
  {
   "cell_type": "code",
   "execution_count": 51,
   "metadata": {
    "colab": {
     "base_uri": "https://localhost:8080/"
    },
    "id": "Gv7-KDQAt5zz",
    "outputId": "6a12d8e7-a880-49d2-bc06-dfe6d239d7f7"
   },
   "outputs": [
    {
     "data": {
      "text/plain": [
       "['Shared fenced garden or backyard',\n",
       " ' Elevator',\n",
       " ' Drying rack for clothing',\n",
       " ' Wine glasses',\n",
       " ' Host greets you',\n",
       " ' Refrigerator',\n",
       " ' Shared hot tub - open specific hours',\n",
       " ' Heating',\n",
       " ' Dining table',\n",
       " ' Private entrance',\n",
       " ' Essentials',\n",
       " ' Single level home',\n",
       " ' Bidet',\n",
       " ' Hangers',\n",
       " ' Oven',\n",
       " ' Cleaning products',\n",
       " ' Outdoor furniture',\n",
       " ' Freezer',\n",
       " ' Microwave',\n",
       " ' Cable TV']"
      ]
     },
     "execution_count": 51,
     "metadata": {},
     "output_type": "execute_result"
    }
   ],
   "source": [
    "#Unzip list of list\n",
    "corpus_merged = list(chain(*corpus))\n",
    "corpus_merged[:20]"
   ]
  },
  {
   "cell_type": "code",
   "execution_count": 52,
   "metadata": {
    "colab": {
     "base_uri": "https://localhost:8080/"
    },
    "id": "4w0bfL4Cvjrm",
    "outputId": "eb621c7e-b95c-4cb7-aa91-a2d649efd7db"
   },
   "outputs": [
    {
     "data": {
      "text/plain": [
       "Counter({'Shared fenced garden or backyard': 265,\n",
       "         'Elevator': 11151,\n",
       "         'Drying rack for clothing': 3246,\n",
       "         'Wine glasses': 4373,\n",
       "         'Host greets you': 5042,\n",
       "         'Refrigerator': 11873,\n",
       "         'Shared hot tub - open specific hours': 3,\n",
       "         'Heating': 12488,\n",
       "         'Dining table': 5029,\n",
       "         'Private entrance': 4222,\n",
       "         'Essentials': 15518,\n",
       "         'Single level home': 2296,\n",
       "         'Bidet': 6378,\n",
       "         'Hangers': 14286,\n",
       "         'Oven': 7933,\n",
       "         'Cleaning products': 5287,\n",
       "         'Outdoor furniture': 2660,\n",
       "         'Freezer': 4645,\n",
       "         'Microwave': 9826,\n",
       "         'Cable TV': 5939,\n",
       "         'Body soap': 3912,\n",
       "         'Air conditioning': 11638,\n",
       "         'Hot water': 13315,\n",
       "         'Extra pillows and blankets': 7745,\n",
       "         'TV with standard cable': 4044,\n",
       "         'Wifi': 16540,\n",
       "         'Dishes and silverware': 13163,\n",
       "         'Shared sauna': 377,\n",
       "         'Toaster': 4677,\n",
       "         'Gym': 1553,\n",
       "         'Stove': 6329,\n",
       "         'Paid street parking off premises': 241,\n",
       "         'Shared pool': 2019,\n",
       "         'Long term stays allowed': 16639,\n",
       "         'Iron': 10808,\n",
       "         'Kitchen': 17016,\n",
       "         'Paid washer \\\\u2013 In building': 1195,\n",
       "         'Laundromat nearby': 4067,\n",
       "         'Bathtub': 6321,\n",
       "         'Room-darkening shades': 6614,\n",
       "         'Hair dryer': 11381,\n",
       "         'Bed linens': 10392,\n",
       "         'Safe': 1460,\n",
       "         'Coffee maker': 9886,\n",
       "         'Cooking basics': 12418,\n",
       "         'Private patio or balcony': 5290,\n",
       "         'Clothing storage: dresser and closet': 181,\n",
       "         'Paid dryer \\\\u2013 In building': 1068,\n",
       "         'Pack \\\\u2019n play/Travel crib': 1026,\n",
       "         'Clothing storage: closet': 2974,\n",
       "         'Baking sheet': 3891,\n",
       "         'Children\\\\u2019s books and toys': 515,\n",
       "         'Jabon body soap': 6,\n",
       "         'Crib - available upon request': 268,\n",
       "         'Private garden or backyard': 478,\n",
       "         'Hot water kettle': 5441,\n",
       "         'Paid parking off premises': 4249,\n",
       "         'TV': 7675,\n",
       "         'Washer': 6871,\n",
       "         'Carbon monoxide alarm': 2817,\n",
       "         'Smoke alarm': 3791,\n",
       "         'Dryer': 3090,\n",
       "         'Shampoo': 8075,\n",
       "         'High chair': 587,\n",
       "         'Free street parking': 7403,\n",
       "         'Building staff': 1314,\n",
       "         'Luggage dropoff allowed': 4253,\n",
       "         'Pocket wifi': 1158,\n",
       "         'Fire extinguisher': 7594,\n",
       "         'Paid parking on premises': 1502,\n",
       "         'Dedicated workspace': 6830,\n",
       "         'Backyard': 1547,\n",
       "         'Patio or balcony': 3184,\n",
       "         'Conditioner': 2439,\n",
       "         'First aid kit': 4737,\n",
       "         'Sound system': 286,\n",
       "         'Cleaning before checkout': 1172,\n",
       "         'Private hot tub': 369,\n",
       "         'Free washer \\\\u2013 In building': 298,\n",
       "         'Ethernet connection': 1841,\n",
       "         'Paid parking garage on premises \\\\u2013 1 space': 74,\n",
       "         'BBQ grill': 3156,\n",
       "         'Outdoor dining area': 2753,\n",
       "         'Shower gel': 1528,\n",
       "         'Crib': 1320,\n",
       "         'Shared patio or balcony': 562,\n",
       "         'Lock on bedroom door': 1180,\n",
       "         '': 9,\n",
       "         'Pool': 1867,\n",
       "         'Portable fans': 930,\n",
       "         'Ceiling fan': 987,\n",
       "         'Board games': 397,\n",
       "         'Outdoor shower': 885,\n",
       "         'Mosquito net': 439,\n",
       "         'Free washer \\\\u2013 In unit': 1656,\n",
       "         'Shared gym nearby': 23,\n",
       "         'AC - split type ductless system': 3068,\n",
       "         'Clothing storage: closet and dresser': 181,\n",
       "         '32\\\\ HDTV with premium cable': 44,\n",
       "         'Netflix': 802,\n",
       "         'standard cable': 914,\n",
       "         'Security cameras on property': 2002,\n",
       "         'Paid parking lot off premises': 1734,\n",
       "         'Heating - split type ductless system': 1257,\n",
       "         '32\\\\ HDTV': 134,\n",
       "         'Est\\\\u00e1ndar body soap': 1,\n",
       "         'Window AC unit': 912,\n",
       "         'Rice maker': 81,\n",
       "         '28\\\\ HDTV with Chromecast': 2,\n",
       "         'Shared gym in building': 891,\n",
       "         'Fast wifi \\\\u2013 116 Mbps': 32,\n",
       "         'Free dryer \\\\u2013 In building': 170,\n",
       "         '32\\\\ TV with standard cable': 108,\n",
       "         'Hot tub': 675,\n",
       "         'Free parking on premises': 1306,\n",
       "         'Window guards': 1285,\n",
       "         'Babysitter recommendations': 440,\n",
       "         'Private fenced garden or backyard': 367,\n",
       "         'Baby bath': 278,\n",
       "         '40\\\\ HDTV with standard cable': 68,\n",
       "         'Breakfast': 779,\n",
       "         'Children\\\\u2019s dinnerware': 617,\n",
       "         'Gas stove': 438,\n",
       "         '32\\\\ HDTV with Netflix': 162,\n",
       "         'Clamp on table seat high chair': 4,\n",
       "         '42\\\\ HDTV with standard cable': 66,\n",
       "         'Dishwasher': 651,\n",
       "         'Shared garden or backyard': 536,\n",
       "         '32\\\\ TV with Chromecast': 30,\n",
       "         'TV with Chromecast': 77,\n",
       "         'Bikes': 186,\n",
       "         'SHAMPOO PARA MANOS Y CUERPO body soap': 1,\n",
       "         'Record player': 91,\n",
       "         'wardrobe': 88,\n",
       "         'and dresser': 68,\n",
       "         '32\\\\ HDTV with standard cable': 186,\n",
       "         'Fast wifi \\\\u2013 58 Mbps': 8,\n",
       "         'Sound system with aux': 105,\n",
       "         'Induction stove': 45,\n",
       "         'Wifi \\\\u2013 21 Mbps': 3,\n",
       "         'HDTV with standard cable': 305,\n",
       "         'Minicomponente Samsung sound system': 1,\n",
       "         'Cocina a gas WHIRPOOL WFB56DB cuatro hornallas': 1,\n",
       "         'encendido autom\\\\u00e1tico': 1,\n",
       "         'horno autolimpiante con luz': 1,\n",
       "         'con dos rejillas de acero inoxidable y una asadera. Parrilla con asadera con rejilla de acero inoxidable. oven': 1,\n",
       "         'Radiant heating': 739,\n",
       "         'Portable heater': 603,\n",
       "         '40\\\\ TV with standard cable': 11,\n",
       "         'Indoor fireplace': 452,\n",
       "         'Private pool': 108,\n",
       "         'Heladera con freezer Patrick  refrigerator': 1,\n",
       "         'Cocina a gas con hornallas y horno oven': 1,\n",
       "         'Baby safety gates': 228,\n",
       "         'Beachfront': 79,\n",
       "         'Changing table': 166,\n",
       "         'LG sound system with aux': 1,\n",
       "         'Nespresso machine': 690,\n",
       "         'Lockbox': 1095,\n",
       "         'Stainless steel oven': 1126,\n",
       "         '32\\\\ HDTV with Chromecast': 78,\n",
       "         'Table corner guards': 62,\n",
       "         'Free dryer \\\\u2013 In unit': 361,\n",
       "         'Dove  body soap': 22,\n",
       "         'HDTV with HBO Max': 25,\n",
       "         'Apple TV': 96,\n",
       "         'premium cable': 472,\n",
       "         'Mini fridge': 866,\n",
       "         'Paid parking garage on premises': 125,\n",
       "         'Barbecue utensils': 829,\n",
       "         'Fireplace guards': 55,\n",
       "         'dresser': 71,\n",
       "         'and wardrobe': 74,\n",
       "         'Clothing storage': 1255,\n",
       "         'Lake access': 55,\n",
       "         'Clothing storage: closet and wardrobe': 204,\n",
       "         'Dove body soap': 180,\n",
       "         'Jvc sound system with aux': 1,\n",
       "         'Central air conditioning': 520,\n",
       "         'Clothing storage: walk-in closet': 235,\n",
       "         'Fast wifi \\\\u2013 62 Mbps': 24,\n",
       "         'Clothing storage: wardrobe': 649,\n",
       "         'TV with Netflix': 149,\n",
       "         'SIMPLEMENTE JAB\\\\u00d3N body soap': 1,\n",
       "         'Pour-over coffee': 977,\n",
       "         'Clothing storage: wardrobe and dresser': 27,\n",
       "         'HDTV': 269,\n",
       "         'Baby monitor': 40,\n",
       "         '32\\\\ HDTV with Amazon Prime Video': 49,\n",
       "         'Paid parking lot on premises': 120,\n",
       "         'Atma oven': 2,\n",
       "         'Stainless steel gas stove': 149,\n",
       "         'Paid parking garage off premises': 299,\n",
       "         'Paid washer': 28,\n",
       "         'Shared hot tub': 460,\n",
       "         'Outlet covers': 161,\n",
       "         'Kitchenette': 27,\n",
       "         'Waterfront': 48,\n",
       "         'HDTV with Netflix': 333,\n",
       "         'Private gym in building': 90,\n",
       "         'Sound system with Bluetooth and aux': 53,\n",
       "         'walk-in closet': 30,\n",
       "         'Paid parking garage on premises \\\\u2013 10 spaces': 2,\n",
       "         'Generico body soap': 4,\n",
       "         'Gen\\\\u00e9rico  conditioner': 3,\n",
       "         'Whirpool 120 litros refrigerator': 1,\n",
       "         '42\\\\ HDTV with Chromecast': 43,\n",
       "         'and closet': 80,\n",
       "         'Piano': 98,\n",
       "         'HDTV with Roku': 9,\n",
       "         'Free washer': 65,\n",
       "         'Smart lock': 236,\n",
       "         '49\\\\ HDTV with Chromecast': 6,\n",
       "         'Game console': 48,\n",
       "         'Dove/nivea body soap': 1,\n",
       "         'Dove/ suave/ plusbelle  conditioner': 1,\n",
       "         'Beach essentials': 38,\n",
       "         'HDTV with premium cable': 85,\n",
       "         'DVD player': 14,\n",
       "         'Clothing storage: wardrobe and closet': 246,\n",
       "         'Free dryer': 35,\n",
       "         'Bose sound system with aux': 1,\n",
       "         'Wifi \\\\u2013 9 Mbps': 6,\n",
       "         '21\\\\ TV with Chromecast': 2,\n",
       "         'Fast wifi \\\\u2013 54 Mbps': 21,\n",
       "         '25\\\\ TV': 1,\n",
       "         'Fire pit': 229,\n",
       "         'Varios body soap': 9,\n",
       "         'Clothing storage: walk-in closet and dresser': 11,\n",
       "         'Atinaron stainless steel oven': 1,\n",
       "         'Fast wifi \\\\u2013 55 Mbps': 12,\n",
       "         'Ariston  stainless steel electric stove': 2,\n",
       "         '50\\\\ HDTV with standard cable': 44,\n",
       "         'Chromecast': 157,\n",
       "         'Longvie stainless steel oven': 32,\n",
       "         'Fast wifi \\\\u2013 74 Mbps': 4,\n",
       "         'Clothing storage: dresser': 253,\n",
       "         'closet': 112,\n",
       "         '40\\\\ TV with Chromecast': 4,\n",
       "         'Portable air conditioning': 121,\n",
       "         '49\\\\ HDTV with standard cable': 7,\n",
       "         'Fast wifi \\\\u2013 57 Mbps': 72,\n",
       "         'Sauna': 72,\n",
       "         '42\\\\ HDTV with Netflix': 105,\n",
       "         'Fast wifi \\\\u2013 153 Mbps': 2,\n",
       "         'HDTV with Apple TV': 20,\n",
       "         'Argentine refrigerator': 1,\n",
       "         'Gas stainless steel gas stove': 1,\n",
       "         'Central heating': 797,\n",
       "         'LG Bluetooth sound system': 1,\n",
       "         '40\\\\ HDTV with Chromecast': 28,\n",
       "         'Crib - always at the listing': 29,\n",
       "         'Fast wifi \\\\u2013 113 Mbps': 20,\n",
       "         '43\\\\ HDTV with Netflix': 106,\n",
       "         'Rexona body soap': 28,\n",
       "         '29\\\\ HDTV with standard cable': 4,\n",
       "         'Keypad': 269,\n",
       "         'Shared outdoor pool - available seasonally': 281,\n",
       "         'open specific hours': 400,\n",
       "         'Shared outdoor pool - lap pool': 11,\n",
       "         'Full kitchen': 74,\n",
       "         'Bathroom essentials': 91,\n",
       "         'Pets allowed': 17,\n",
       "         'Bedroom comforts': 91,\n",
       "         'Smoking allowed': 8,\n",
       "         'Edifier sound system with aux': 4,\n",
       "         'Bread maker': 86,\n",
       "         'Keurig coffee machine': 21,\n",
       "         'HDTV with Chromecast': 157,\n",
       "         'Shared outdoor pool - rooftop': 66,\n",
       "         'Shared outdoor pool': 39,\n",
       "         'TV with Roku': 13,\n",
       "         'Game console: PS2': 4,\n",
       "         '32\\\\ HDTV with Apple TV': 8,\n",
       "         '30\\\\ HDTV with standard cable': 4,\n",
       "         '52\\\\ TV with standard cable': 2,\n",
       "         'LH conditioner': 1,\n",
       "         'Pack \\\\u2019n play/Travel crib - available upon request': 292,\n",
       "         '32\\\\ TV': 47,\n",
       "         'Patrick refrigerator': 77,\n",
       "         'Lux body soap': 61,\n",
       "         'Pantene conditioner': 46,\n",
       "         'Fast wifi \\\\u2013 51 Mbps': 18,\n",
       "         'Fast wifi \\\\u2013 53 Mbps': 37,\n",
       "         'Self check-in': 40,\n",
       "         'Longvie  stainless steel oven': 2,\n",
       "         '26\\\\ TV with standard cable': 2,\n",
       "         '30\\\\ HDTV with Roku': 1,\n",
       "         'L\\\\u00edquido body soap': 6,\n",
       "         'DOVE body soap': 32,\n",
       "         'Washer \\\\u2013\\\\u00a0In unit': 58,\n",
       "         '48\\\\ HDTV with standard cable': 5,\n",
       "         'Clothing storage: walk-in closet and closet': 54,\n",
       "         '32\\\\ TV with Roku': 3,\n",
       "         'All Vegan natural products shampoo': 1,\n",
       "         'Vegan Almond / Coconut  body soap': 2,\n",
       "         'FM Radio / Speakers sound system with aux': 1,\n",
       "         'All Vegan natural products conditioner': 1,\n",
       "         'HBO Max': 200,\n",
       "         'Roku': 50,\n",
       "         'Any body soap': 1,\n",
       "         'Gel ducha body soap': 1,\n",
       "         '24\\\\ TV with standard cable': 5,\n",
       "         '40\\\\ HDTV with premium cable': 25,\n",
       "         'Fast wifi \\\\u2013 110 Mbps': 28,\n",
       "         'BOSE con slot para Iphone/Ipod sound system with aux': 1,\n",
       "         '36\\\\ TV with standard cable': 1,\n",
       "         '46\\\\ HDTV with premium cable': 5,\n",
       "         '50\\\\ TV': 8,\n",
       "         '43\\\\ HDTV with standard cable': 44,\n",
       "         'Zenith refrigerator': 7,\n",
       "         'Sony sound system': 14,\n",
       "         'Variable body soap': 1,\n",
       "         'Wifi \\\\u2013 19 Mbps': 5,\n",
       "         'TV with Amazon Prime Video': 19,\n",
       "         '65\\\\ HDTV with Netflix': 5,\n",
       "         'Pantene shampoo': 51,\n",
       "         'Samsung sound system with aux': 2,\n",
       "         'Private hot tub - available all year': 24,\n",
       "         'Whirpool refrigerator': 45,\n",
       "         'Hotelero conditioner': 9,\n",
       "         'Hotelero shampoo': 9,\n",
       "         'Orbis stainless steel oven': 10,\n",
       "         'Orbis stainless steel stove': 6,\n",
       "         'Hotelero body soap': 9,\n",
       "         '50\\\\ HDTV with Netflix': 72,\n",
       "         'Horno de la cocina oven': 1,\n",
       "         'Completa a gas stove': 1,\n",
       "         'Gaffa con freezer refrigerator': 1,\n",
       "         'Electrolux refrigerator': 38,\n",
       "         'Stainless steel electric stove': 159,\n",
       "         '46\\\\ HDTV with Amazon Prime Video': 1,\n",
       "         'Fast wifi \\\\u2013 50 Mbps': 10,\n",
       "         '52\\\\ HDTV with standard cable': 1,\n",
       "         'Dryer \\\\u2013 In building': 38,\n",
       "         '26\\\\ HDTV with Chromecast': 1,\n",
       "         'JVC Radio and Aux Stereo Unit sound system with aux': 1,\n",
       "         'All vegan and natural products conditioner': 1,\n",
       "         'All vegan and natural products shampoo': 1,\n",
       "         'Jabon de tocador body soap': 2,\n",
       "         'Horno El\\\\u00e9ctrico  oven': 1,\n",
       "         '49\\\\ HDTV with premium cable': 4,\n",
       "         'Electric stove': 454,\n",
       "         'Wifi \\\\u2013 46 Mbps': 4,\n",
       "         '40\\\\ HDTV with Netflix': 42,\n",
       "         'lap pool': 36,\n",
       "         'rooftop': 217,\n",
       "         'Bluetooth sound system': 83,\n",
       "         '50\\\\ HDTV with Chromecast': 22,\n",
       "         'Private outdoor pool -': 1,\n",
       "         'Free parking garage on premises': 22,\n",
       "         'Italian brand stainless steel gas stove': 1,\n",
       "         'Fast wifi \\\\u2013 73 Mbps': 4,\n",
       "         'Shared outdoor pool - available all year': 68,\n",
       "         'heated': 28,\n",
       "         '32\\\\ HDTV with Roku': 8,\n",
       "         'Wifi \\\\u2013 42 Mbps': 10,\n",
       "         'Amazon Prime Video': 112,\n",
       "         'Xxxx body soap': 1,\n",
       "         'Paid washer \\\\u2013 In unit': 52,\n",
       "         'L\\\\u00edquido  body soap': 3,\n",
       "         '45\\\\ HDTV with standard cable': 10,\n",
       "         'Wifi \\\\u2013 20 Mbps': 7,\n",
       "         'Longvie stainless steel stove': 9,\n",
       "         'Drean refrigerator': 2,\n",
       "         'Clothing storage: dresser and wardrobe': 40,\n",
       "         '28\\\\ HDTV with Netflix': 4,\n",
       "         'Horno el\\\\u00e9ctrico  oven': 2,\n",
       "         'Jab\\\\u00f3n l\\\\u00edquido  body soap': 5,\n",
       "         'Nacional body soap': 1,\n",
       "         'Clothing storage: closet and walk-in closet': 50,\n",
       "         'Sansui Amplifier / NAD CD Player / Great DUAL vintage speakers sound system with Bluetooth and aux': 1,\n",
       "         '40\\\\ TV with Netflix': 9,\n",
       "         'Shared pool - available seasonally': 140,\n",
       "         'Fast wifi \\\\u2013 302 Mbps': 12,\n",
       "         'Columbia con freezer refrigerator': 1,\n",
       "         'Dos hornallas el\\\\u00e9ctricas electric stove': 1,\n",
       "         'Fast wifi \\\\u2013 115 Mbps': 50,\n",
       "         'Elvive conditioner': 11,\n",
       "         'Standard body soap': 7,\n",
       "         '30\\\\ HDTV with premium cable': 2,\n",
       "         'Heladera bajomesada refrigerator': 2,\n",
       "         'Energy Safe stainless steel induction stove': 2,\n",
       "         '45\\\\ HDTV': 4,\n",
       "         'Fast wifi \\\\u2013 94 Mbps': 2,\n",
       "         'Ariston oven': 8,\n",
       "         '3\\\\ HDTV with standard cable': 4,\n",
       "         'Jabones individuales body soap': 1,\n",
       "         'Placa de vitrocer\\\\u00e1mica para dos fuegos stove': 1,\n",
       "         'Alguna primera marca de Argentina conditioner': 1,\n",
       "         'De buena calidad body soap': 1,\n",
       "         'Trash compactor': 87,\n",
       "         'De buena calidad conditioner': 1,\n",
       "         'De buena calidad shampoo': 1,\n",
       "         '2 hornallas electricas electric stove': 1,\n",
       "         'Fast wifi \\\\u2013 114 Mbps': 37,\n",
       "         'Ken Braun oven': 1,\n",
       "         'lux body soap': 1,\n",
       "         'Fast wifi \\\\u2013 307 Mbps': 3,\n",
       "         'Savon  body soap': 1,\n",
       "         '50\\\\ HDTV with Amazon Prime Video': 57,\n",
       "         '43\\\\ TV with standard cable': 4,\n",
       "         'Paid parking lot on premises \\\\u2013 1 space': 74,\n",
       "         'Fast wifi \\\\u2013 303 Mbps': 2,\n",
       "         'Fagor stainless steel oven': 1,\n",
       "         '42\\\\ TV with Chromecast': 7,\n",
       "         'Free driveway parking on premises': 6,\n",
       "         'Full size refrigerator with no frost freezer refrigerator': 1,\n",
       "         'De primera marca body soap': 1,\n",
       "         '65\\\\ HDTV with standard cable': 5,\n",
       "         'Private sauna': 18,\n",
       "         'Mabe refrigerator': 6,\n",
       "         'Stainless steel stove': 236,\n",
       "         'EV charger': 48,\n",
       "         'Ariston stainless steel oven': 28,\n",
       "         'Ariston refrigerator': 7,\n",
       "         'Sedal shampoo': 54,\n",
       "         'Sedal conditioner': 50,\n",
       "         '55\\\\ HDTV with standard cable': 20,\n",
       "         'ANAFE VITROSERAMICO ELECTRICO 4 HORNALLAS': 1,\n",
       "         '6400 Watts electric stove': 1,\n",
       "         'Private gym nearby': 10,\n",
       "         'Private indoor pool - heated': 1,\n",
       "         'Bambi': 1,\n",
       "         '328 L con freezer': 1,\n",
       "         'y  wate dispenser refrigerator': 1,\n",
       "         'Glem oven': 4,\n",
       "         'Generico conditioner': 5,\n",
       "         'Ping pong table': 68,\n",
       "         'Ski-in/Ski-out': 15,\n",
       "         'Private outdoor pool - available seasonally': 19,\n",
       "         'sun loungers': 34,\n",
       "         'Est\\\\u00e1ndar  body soap': 1,\n",
       "         'Wifi \\\\u2013 26 Mbps': 7,\n",
       "         '45\\\\ TV with standard cable': 5,\n",
       "         '42\\\\ TV with standard cable': 18,\n",
       "         'Shower gel body soap': 1,\n",
       "         'Samsung conditioner': 4,\n",
       "         'Electrolux 350 L refrigerator': 1,\n",
       "         'Ariston stainless steel gas stove': 6,\n",
       "         'Wifi \\\\u2013 7 Mbps': 3,\n",
       "         '24\\\\ HDTV with standard cable': 4,\n",
       "         '42\\\\ TV': 18,\n",
       "         'Free carport on premises': 42,\n",
       "         'Horno el\\\\u00e9ctrico de capacidad 40L. oven': 1,\n",
       "         'Fast wifi \\\\u2013 111 Mbps': 24,\n",
       "         '42\\\\ HDTV with Amazon Prime Video': 26,\n",
       "         '55\\\\ HDTV with Amazon Prime Video': 28,\n",
       "         'Wifi \\\\u2013 39 Mbps': 11,\n",
       "         '50\\\\ HDTV with premium cable': 13,\n",
       "         'Suave o similar body soap': 2,\n",
       "         'Fast wifi \\\\u2013 224 Mbps': 1,\n",
       "         '47\\\\ HDTV with Netflix': 12,\n",
       "         'Suave/ Plusbelle shampoo': 2,\n",
       "         'SUAVE conditioner': 1,\n",
       "         '49\\\\ HDTV with HBO Max': 3,\n",
       "         'Nivea body soap': 12,\n",
       "         'Free carport on premises \\\\u2013 1 space': 28,\n",
       "         'HDTV with Amazon Prime Video': 102,\n",
       "         '43\\\\ HDTV': 45,\n",
       "         'Dove shampoo': 85,\n",
       "         'Fast wifi \\\\u2013 99 Mbps': 6,\n",
       "         'Dove conditioner': 84,\n",
       "         'Gas oven and stovetop oven': 1,\n",
       "         '42\\\\ TV with Netflix': 10,\n",
       "         'Different brands body soap': 1,\n",
       "         'Different brands conditioner': 1,\n",
       "         '32\\\\ TV with Netflix': 29,\n",
       "         'Suitable for events': 3,\n",
       "         '21\\\\ TV with Roku': 1,\n",
       "         'TV with premium cable': 16,\n",
       "         '39\\\\ TV with Netflix': 1,\n",
       "         'Sony home theatre sound system': 1,\n",
       "         'Washer \\\\u2013\\\\u00a0In building': 61,\n",
       "         'open 24 hours': 66,\n",
       "         'Garnier Fructis (apto vegan) shampoo': 1,\n",
       "         'Garnier Fructis (apto vegan) conditioner': 1,\n",
       "         'Artesanal (Apto vegan) body soap': 1,\n",
       "         'Emblema body soap': 2,\n",
       "         'Mabe com\\\\u00fan a ambos alojamientos refrigerator': 2,\n",
       "         'Emblema shampoo': 2,\n",
       "         'Wifi \\\\u2013 23 Mbps': 2,\n",
       "         '40\\\\ HDTV': 38,\n",
       "         'Whirlpool oven': 2,\n",
       "         'Pantene or similar conditioner': 2,\n",
       "         'Sony sound system with Bluetooth and aux': 10,\n",
       "         'Pantene or similar shampoo': 2,\n",
       "         'Children\\\\u2019s books and toys for ages 0-2 years old': 49,\n",
       "         '2-5 years old': 30,\n",
       "         'and 5-10 years old': 15,\n",
       "         'Palmolive or similar body soap': 3,\n",
       "         'Whirlpool gas stove': 1,\n",
       "         'Pack \\\\u2019n play/Travel crib - always at the listing': 24,\n",
       "         'Tiempos Naturales conditioner': 1,\n",
       "         'Gafa Eurosystem refrigerator': 1,\n",
       "         'Longvie stainless steel gas stove': 12,\n",
       "         'Sony sound system with aux': 13,\n",
       "         '20\\\\ TV with standard cable': 4,\n",
       "         'Ariston': 1,\n",
       "         'electrico stainless steel oven': 1,\n",
       "         'Noblex sound system with aux': 2,\n",
       "         'Samsung RB30K3010SS refrigerator': 1,\n",
       "         'Elvive': 1,\n",
       "         'LOreal shampoo': 1,\n",
       "         'Fast wifi \\\\u2013 81 Mbps': 2,\n",
       "         '5-10 years old': 19,\n",
       "         'and 10+ years old': 19,\n",
       "         'Game console: PS3': 8,\n",
       "         'Gafa refrigerator': 56,\n",
       "         'Hornito el\\\\u00e9ctrico Black and Decker y Horno grande a gas oven': 1,\n",
       "         'SMEG stainless steel oven': 4,\n",
       "         'SMEG stainless steel gas stove': 3,\n",
       "         'Hasta que los hu\\\\u00e9spedes se abastezcan conditioner': 1,\n",
       "         'Hasta que los hu\\\\u00e9spedes se abastezcan shampoo': 1,\n",
       "         'Pioneer sound system with aux': 2,\n",
       "         '55\\\\ HDTV with premium cable': 16,\n",
       "         'Hasta que los hu\\\\u00e9spedes se abastezcan body soap': 1,\n",
       "         'Jab\\\\u00f3n liquido body soap': 2,\n",
       "         'Pool cover': 1,\n",
       "         'Fast wifi \\\\u2013 128 Mbps': 2,\n",
       "         '43\\\\ HDTV with Chromecast': 35,\n",
       "         '40\\\\ HDTV with HBO Max': 3,\n",
       "         'Paid dryer \\\\u2013 In unit': 15,\n",
       "         'Horno ELECTRICO oven': 1,\n",
       "         '42\\\\ TV with premium cable': 2,\n",
       "         'LG refrigerator': 14,\n",
       "         'Domec stainless steel gas stove': 8,\n",
       "         'Children\\\\u2019s books and toys for ages 0-2 years old and 2-5 years old': 24,\n",
       "         'Domec oven': 12,\n",
       "         'Horno el\\\\u00e9ctrico con grill y spiedo oven': 1,\n",
       "         '55\\\\ HDTV with Netflix': 59,\n",
       "         'Dryer \\\\u2013\\\\u00a0In unit': 16,\n",
       "         'Fast wifi \\\\u2013 98 Mbps': 2,\n",
       "         'Fast wifi \\\\u2013 300 Mbps': 7,\n",
       "         '43\\\\ HDTV with premium cable': 26,\n",
       "         '21\\\\ TV': 3,\n",
       "         'Shared pool - available all year': 32,\n",
       "         'Free parking garage on premises \\\\u2013 1 space': 39,\n",
       "         'Phillips sound system with aux': 2,\n",
       "         '29\\\\ TV with standard cable': 5,\n",
       "         'Free residential garage on premises': 21,\n",
       "         'Paid dryer': 27,\n",
       "         'Samsung refrigerator': 72,\n",
       "         'Samsung stainless steel gas stove': 1,\n",
       "         'Private outdoor pool - lap pool': 1,\n",
       "         'Fast wifi \\\\u2013 312 Mbps': 4,\n",
       "         'Frigidaire refrigerator': 2,\n",
       "         '35\\\\ TV with standard cable': 12,\n",
       "         'Fast wifi \\\\u2013 52 Mbps': 14,\n",
       "         'Lux  body soap': 4,\n",
       "         'Wifi \\\\u2013 13 Mbps': 5,\n",
       "         'Unspecified  body soap': 1,\n",
       "         'Unspecified  induction stove': 1,\n",
       "         'GE stainless steel oven': 3,\n",
       "         'Whirlpool  refrigerator': 10,\n",
       "         '106\\\\ HDTV with Chromecast': 3,\n",
       "         '32\\\\ HDTV with HBO Max': 4,\n",
       "         'Vegan body soap': 2,\n",
       "         'Vegan Almond / Coconut  shampoo': 1,\n",
       "         'FM Radio / Speaker sound system with aux': 1,\n",
       "         'Vegan Almond / Coconut  conditioner': 1,\n",
       "         'Jbl  Bluetooth sound system': 1,\n",
       "         '43\\\\ TV with Netflix': 6,\n",
       "         'Whirlpool refrigerator': 29,\n",
       "         '109\\\\ HDTV with Amazon Prime Video': 1,\n",
       "         'Bajo mesada refrigerator': 13,\n",
       "         'Dove o similar body soap': 1,\n",
       "         'Paid parking garage on premises \\\\u2013 2 spaces': 3,\n",
       "         '40\\\\ HDTV with Roku': 5,\n",
       "         'Suave o similar  body soap': 1,\n",
       "         'Suave o Plussbelle conditioner': 1,\n",
       "         'Suave o Plusbelle shampoo': 1,\n",
       "         '80\\\\ HDTV with standard cable': 1,\n",
       "         'Shared hot tub - available all year': 33,\n",
       "         'Elveve  shampoo': 1,\n",
       "         'Sin marca preferencial conditioner': 1,\n",
       "         'En computadora sound system': 1,\n",
       "         'Aire acondicionado calor electric stove': 1,\n",
       "         'Sony Bluetooth sound system': 13,\n",
       "         'Wifi \\\\u2013 40 Mbps': 7,\n",
       "         'Sistema de cine para poder ver pel\\\\u00edculas en pantalla gigante con sonido 5.1 sound system with Bluetooth and aux': 1,\n",
       "         'Children\\\\u2019s books and toys for ages 2-5 years old': 16,\n",
       "         '45\\\\ HDTV with premium cable': 6,\n",
       "         '82\\\\ HDTV': 1,\n",
       "         'Gym in building': 30,\n",
       "         'Fast wifi \\\\u2013 72 Mbps': 4,\n",
       "         'Fast wifi \\\\u2013 387 Mbps': 2,\n",
       "         'Shared outdoor pool -': 9,\n",
       "         'Whirpool stainless steel oven': 5,\n",
       "         'Lux onsimilar body soap': 1,\n",
       "         'Wifi \\\\u2013 48 Mbps': 7,\n",
       "         'Equipo de primera marca Bluetooth sound system': 1,\n",
       "         'Marcas recomendadas. shampoo': 1,\n",
       "         'Samsung Digital  electric stove': 1,\n",
       "         'Marcas recomendadas. conditioner': 1,\n",
       "         'Marcas recomendadas. body soap': 1,\n",
       "         'Private outdoor pool': 1,\n",
       "         'Pool toys': 1,\n",
       "         'Sedal body soap': 6,\n",
       "         'Farmacity body soap': 3,\n",
       "         'Electrica stove': 1,\n",
       "         'and walk-in closet': 36,\n",
       "         'High chair - available upon request': 3,\n",
       "         'Importado conditioner': 1,\n",
       "         'Importado body soap': 1,\n",
       "         'Fast wifi \\\\u2013 112 Mbps': 13,\n",
       "         '47\\\\ HDTV with standard cable': 5,\n",
       "         'Free driveway parking on premises \\\\u2013 1 space': 5,\n",
       "         'Wifi \\\\u2013 6 Mbps': 4,\n",
       "         'Free parking on premises \\\\u2013 1 space': 1,\n",
       "         'Standalone high chair - available upon request': 6,\n",
       "         'PAUMA stainless steel oven': 1,\n",
       "         'Plusbelle shampoo': 15,\n",
       "         'Plusbelle conditioner': 11,\n",
       "         'Plusbelle body soap': 3,\n",
       "         'Electrico oven': 7,\n",
       "         'Anafe stove': 2,\n",
       "         'CON FREEZER refrigerator': 5,\n",
       "         'Longvie gas stove': 4,\n",
       "         'Philco  refrigerator': 2,\n",
       "         'LUX body soap': 6,\n",
       "         'Le Sanci conditioner': 1,\n",
       "         'Fast wifi \\\\u2013 289 Mbps': 1,\n",
       "         'ELECTROLUX stainless steel oven': 1,\n",
       "         '43\\\\ HDTV with Amazon Prime Video': 38,\n",
       "         'Le Sanci shampoo': 1,\n",
       "         'Fast wifi \\\\u2013 147 Mbps': 2,\n",
       "         'Fast wifi \\\\u2013 67 Mbps': 3,\n",
       "         '47\\\\ HDTV with premium cable': 3,\n",
       "         'Gen\\\\u00e9rico  body soap': 8,\n",
       "         'Philips sound system with Bluetooth and aux': 1,\n",
       "         'Fast wifi \\\\u2013 335 Mbps': 1,\n",
       "         'ELECTRICO oven': 4,\n",
       "         'Domec stainless steel oven': 39,\n",
       "         '55\\\\ HDTV with Chromecast': 10,\n",
       "         'Jab\\\\u00f3n liquido neutro  body soap': 1,\n",
       "         'Algabo body soap': 3,\n",
       "         '60\\\\ HDTV with Chromecast': 2,\n",
       "         'Amplificador Pionner sound system with aux': 1,\n",
       "         '39\\\\ HDTV with Netflix': 8,\n",
       "         'Plusbelle / Suave shampoo': 1,\n",
       "         'Siemens  stainless steel oven': 1,\n",
       "         'Escabe gas stove': 1,\n",
       "         'Philco refrigerator': 25,\n",
       "         'Hipoalerg\\\\u00e9nico body soap': 1,\n",
       "         'Fast wifi \\\\u2013 143 Mbps': 2,\n",
       "         'Plusbelle / Suave conditioner': 1,\n",
       "         'Tama\\\\u00f1o peque\\\\u00f1o y el\\\\u00e9ctrico stainless steel oven': 1,\n",
       "         'Peque\\\\u00f1a ubicada bajo mesada refrigerator': 1,\n",
       "         'Con frezer refrigerator': 1,\n",
       "         'Free residential garage on premises \\\\u2013 1 space': 15,\n",
       "         'Liquido body soap': 11,\n",
       "         'Rexona': 1,\n",
       "         'Palmolive': 3,\n",
       "         'Nivea o similar body soap': 1,\n",
       "         'Dove': 7,\n",
       "         'Sedal o similar conditioner': 1,\n",
       "         'Sedal o similar shampoo': 1,\n",
       "         'ANAFE ELECTRICO stainless steel electric stove': 1,\n",
       "         'Game console: Xbox 360': 3,\n",
       "         'Somos una casa sustentable por lo que los productos que usamos son libres de quimicos y toxicos': 1,\n",
       "         'Lo natural es mas sano body soap': 1,\n",
       "         'Si gustan del acondicionador tambien natural se lo proporcionaremos conditioner': 1,\n",
       "         'En la habitaci\\\\u00f3n frigobar refrigerator': 1,\n",
       "         'TV with': 2,\n",
       "         'Organic vegan cruelty free conditioner': 1,\n",
       "         'Organic vegan cruelty free body soap': 1,\n",
       "         'Hotelera body soap': 3,\n",
       "         'Indesit electric stove': 1,\n",
       "         'Hotelera conditioner': 4,\n",
       "         'Indesit stainless steel oven': 4,\n",
       "         '52\\\\ TV with Netflix': 1,\n",
       "         'Wifi \\\\u2013 31 Mbps': 7,\n",
       "         'Pool table': 62,\n",
       "         '42\\\\ HDTV': 59,\n",
       "         '30\\\\ TV with Roku': 1,\n",
       "         'Jabon liquido con dosificador body soap': 1,\n",
       "         'Sobres individuales shampoo': 1,\n",
       "         'Lognvie stainless steel oven': 1,\n",
       "         'Dove/ Palmolive/ Espadol u otros. body soap': 1,\n",
       "         'Shared outdoor pool - heated': 10,\n",
       "         'Hornito el\\\\u00e9ctrico peque\\\\u00f1o stainless steel oven': 1,\n",
       "         'Heladera con freezer samsung refrigerator': 1,\n",
       "         'Stainless steel induction stove': 6,\n",
       "         '44\\\\ HDTV with Amazon Prime Video': 2,\n",
       "         'TV with Apple TV': 6,\n",
       "         'Game console: Xbox 360 and Xbox One': 1,\n",
       "         'Franke  stainless steel oven': 1,\n",
       "         'Electrico stainless steel oven': 5,\n",
       "         'Fast wifi \\\\u2013 85 Mbps': 2,\n",
       "         'Paid crib - available upon request': 21,\n",
       "         'Private outdoor pool - available all year': 6,\n",
       "         '55\\\\ HDTV': 17,\n",
       "         'Longvie': 1,\n",
       "         'a gas stainless steel stove': 1,\n",
       "         'Private gym': 11,\n",
       "         'Equipo de musica sound system': 1,\n",
       "         'Fast wifi \\\\u2013 63 Mbps': 3,\n",
       "         '20\\\\ HDTV': 2,\n",
       "         'Sistema ambiental  sound system': 1,\n",
       "         'Gen\\\\u00e9rico body soap': 5,\n",
       "         'Standard conditioner': 2,\n",
       "         'Suave conditioner': 14,\n",
       "         '40\\\\ TV with Amazon Prime Video': 1,\n",
       "         'Fast wifi \\\\u2013 59 Mbps': 5,\n",
       "         'Suave body soap': 8,\n",
       "         'Harman/Kardon Bluetooth sound system': 1,\n",
       "         'Fast wifi \\\\u2013 295 Mbps': 2,\n",
       "         'Bont\\\\u00e9 o similar conditioner': 1,\n",
       "         'Bont\\\\u00e9 o similar shampoo': 1,\n",
       "         'Para cabello normal  conditioner': 1,\n",
       "         'S\\\\u00f3lido en barra  body soap': 1,\n",
       "         'ANAFE  DOS HORNALLAS stainless steel electric stove': 1,\n",
       "         'ELECTRICO CHICO oven': 1,\n",
       "         'Ariston stainless steel stove': 8,\n",
       "         'HORNO ELECTRICO TOP HOUSE stainless steel oven': 1,\n",
       "         'HELADERA CON CONGELADOR MARCA MABE refrigerator': 1,\n",
       "         'ANAFE ELECTRICO DE 1 HORNALLA MARCA ATMA electric stove': 1,\n",
       "         '- stainless steel oven': 2,\n",
       "         'Apple HomePods Bluetooth sound system': 1,\n",
       "         'Game console: PS2 and PS4': 1,\n",
       "         '44\\\\ HDTV with standard cable': 3,\n",
       "         '55\\\\ TV with standard cable': 3,\n",
       "         'Varios conditioner': 9,\n",
       "         'Varios shampoo': 11,\n",
       "         'Varios oven': 1,\n",
       "         'De Paolo stainless steel gas stove': 1,\n",
       "         'Fast wifi \\\\u2013 71 Mbps': 3,\n",
       "         'Natura  body soap': 3,\n",
       "         'Liliana electric stove': 1,\n",
       "         'Patrick \\\\bajo mesada\\\\ refrigerator': 1,\n",
       "         'Jab\\\\u00f3n L\\\\u00edquido  body soap': 1,\n",
       "         '4 HORNALLAS  electric stove': 1,\n",
       "         'GE gas stove': 1,\n",
       "         'Anafe electrico stove': 3,\n",
       "         'Glicerina body soap': 4,\n",
       "         'Yamaha sound system with Bluetooth and aux': 3,\n",
       "         'Fast wifi \\\\u2013 199 Mbps': 4,\n",
       "         'Pantalla gas stainless steel stove': 1,\n",
       "         'Fast wifi \\\\u2013 76 Mbps': 3,\n",
       "         'Patrick con freezer  refrigerator': 1,\n",
       "         '30\\\\ TV with standard cable': 3,\n",
       "         '30\\\\ HDTV with Chromecast': 3,\n",
       "         'Palmolive body soap': 23,\n",
       "         'Amazon Alexa Bluetooth sound system': 1,\n",
       "         'Domecq stainless steel oven': 1,\n",
       "         'Fast wifi \\\\u2013 194 Mbps': 2,\n",
       "         '29\\\\ HDTV with Chromecast': 1,\n",
       "         'Domecq stainless steel gas stove': 2,\n",
       "         'Fast wifi \\\\u2013 195 Mbps': 2,\n",
       "         'Horno Peque\\\\u00f1o Marca BGH. El\\\\u00e9ctrico. oven': 1,\n",
       "         'Con congelador y cubeteras para hacer hielo. refrigerator': 1,\n",
       "         'Anafe Vitrocer\\\\u00e1mico. Marca Franke electric stove': 1,\n",
       "         'Fast wifi \\\\u2013 103 Mbps': 8,\n",
       "         'Wifi \\\\u2013 36 Mbps': 4,\n",
       "         'Generica body soap': 3,\n",
       "         '45\\\\ TV with Chromecast': 1,\n",
       "         'Con freezer refrigerator': 5,\n",
       "         '27\\\\ HDTV with standard cable': 2,\n",
       "         'DOVE conditioner': 6,\n",
       "         'DOVE shampoo': 7,\n",
       "         'Wifi \\\\u2013 2 Mbps': 1,\n",
       "         '50\\\\ TV with Netflix': 3,\n",
       "         'Gym nearby': 2,\n",
       "         'Longie stainless steel gas stove': 1,\n",
       "         'Hotel shampoo': 42,\n",
       "         'Hotel body soap': 43,\n",
       "         'Hotel conditioner': 43,\n",
       "         'Paid parking lot on premises \\\\u2013 3 spaces': 2,\n",
       "         'Longvie electric stove': 4,\n",
       "         'Paid parking on premises \\\\u2013 1 space': 1,\n",
       "         'Vitrocer\\\\u00e1mica stainless steel electric stove': 1,\n",
       "         'Con freezer 350 l Frigidaire refrigerator': 1,\n",
       "         'DOVE y REXONA body soap': 1,\n",
       "         'Fast wifi \\\\u2013 203 Mbps': 5,\n",
       "         'Heladera Bajomensada refrigerator': 1,\n",
       "         '23\\\\ TV with standard cable': 1,\n",
       "         '32\\\\ TV with premium cable': 7,\n",
       "         'Varias body soap': 3,\n",
       "         'Varias shampoo': 3,\n",
       "         'Thonet & Vander sound system with aux': 3,\n",
       "         'Varias conditioner': 3,\n",
       "         'sabater body soap': 1,\n",
       "         'Fast wifi \\\\u2013 362 Mbps': 1,\n",
       "         'Orvis stainless steel gas stove': 1,\n",
       "         'Fast wifi \\\\u2013 388 Mbps': 1,\n",
       "         '47\\\\ HDTV': 3,\n",
       "         'Wifi \\\\u2013 27 Mbps': 5,\n",
       "         '24\\\\ TV with Chromecast': 2,\n",
       "         '320\\\\ TV with standard cable': 1,\n",
       "         'Wifi \\\\u2013 22 Mbps': 1,\n",
       "         '50\\\\ HDTV': 30,\n",
       "         'Sm shampoo': 1,\n",
       "         '42\\\\ HDTV with premium cable': 9,\n",
       "         'Patrick Fagor refrigerator': 1,\n",
       "         'Geneva Bluetooth sound system': 1,\n",
       "         'L\\\\u00edquido conditioner': 1,\n",
       "         'Wifi \\\\u2013 33 Mbps': 6,\n",
       "         'Pool - heated': 1,\n",
       "         'Fast wifi \\\\u2013 97 Mbps': 6,\n",
       "         'Wifi \\\\u2013 44 Mbps': 6,\n",
       "         'Bgh 40 lts oven': 1,\n",
       "         'Spa body soap': 1,\n",
       "         'Fast wifi \\\\u2013 148 Mbps': 3,\n",
       "         'Paid valet parking on premises': 11,\n",
       "         'Domec electrica stainless steel electric stove': 1,\n",
       "         'Peabody Vintage refrigerator': 1,\n",
       "         'Black&Decker stainless steel oven': 2,\n",
       "         '32\\\\ TV with Apple TV': 1,\n",
       "         'ELVIVE conditioner': 1,\n",
       "         'ELVIVE shampoo': 1,\n",
       "         'Heladera Bajo Mesada \\\\Mabe\\\\ refrigerator': 1,\n",
       "         'Fast wifi \\\\u2013 77 Mbps': 8,\n",
       "         'BGH stainless steel oven': 2,\n",
       "         '32\\\\ TV with HBO Max': 2,\n",
       "         'Estandard body soap': 5,\n",
       "         'Longvie oven': 9,\n",
       "         'Suave shampoo': 9,\n",
       "         'Google Audio Bluetooth sound system': 1,\n",
       "         'Children\\\\u2019s books and toys for ages 5-10 years old': 9,\n",
       "         '42\\\\ TV with Amazon Prime Video': 4,\n",
       "         'Issue body soap': 2,\n",
       "         'Issue conditioner': 3,\n",
       "         'Sony-Aiwa Bluetooth sound system': 1,\n",
       "         '130\\\\ HDTV with standard cable': 1,\n",
       "         'Domec stainless steel stove': 10,\n",
       "         'Electrolux con freezer no frost refrigerator': 1,\n",
       "         '25\\\\ HDTV with standard cable': 1,\n",
       "         'Wifi \\\\u2013 37 Mbps': 3,\n",
       "         'Heladera Bajo Mesada Lacar 60 refrigerator': 1,\n",
       "         'Longvie  stainless steel electric stove': 1,\n",
       "         'Longvie E1900 stainless steel oven': 1,\n",
       "         'Jab\\\\u00f3n liquido para ducha body soap': 1,\n",
       "         'JVC  sound system': 1,\n",
       "         '22\\\\ HDTV with Netflix': 1,\n",
       "         'Sin marca body soap': 2,\n",
       "         'JVC sound system': 2,\n",
       "         'Fast wifi \\\\u2013 104 Mbps': 5,\n",
       "         'Fast wifi \\\\u2013 109 Mbps': 8,\n",
       "         'Palmolive  body soap': 5,\n",
       "         'Horno el\\\\u00e9ctrico. oven': 1,\n",
       "         'Heladera bajo mesada con congelador. refrigerator': 1,\n",
       "         'Bos\\\\u00e9 Bluetooth sound system': 1,\n",
       "         '41\\\\ HDTV with Chromecast': 1,\n",
       "         'Muy buena refrigerator': 1,\n",
       "         'El\\\\u00e9ctrico  stainless steel oven': 4,\n",
       "         'SMG oven': 1,\n",
       "         'Dove  conditioner': 4,\n",
       "         'Top house refrigerator': 3,\n",
       "         'Thonet and Vander sound system with aux': 1,\n",
       "         'Wifi \\\\u2013 43 Mbps': 3,\n",
       "         '49\\\\ HDTV with Amazon Prime Video': 4,\n",
       "         '27\\\\ TV with standard cable': 2,\n",
       "         'Private outdoor pool - rooftop': 2,\n",
       "         'Home  sound system with Bluetooth and aux': 1,\n",
       "         'Longvie stainless steel electric stove': 1,\n",
       "         'Shared outdoor pool - open specific hours': 5,\n",
       "         '50\\\\ HDTV with HBO Max': 10,\n",
       "         'Paid pack \\\\u2019n play/travel crib - available upon request': 61,\n",
       "         'Fast wifi \\\\u2013 68 Mbps': 3,\n",
       "         'Gas oven': 1,\n",
       "         'SEDAL shampoo': 4,\n",
       "         'Outdoor pool - available seasonally': 2,\n",
       "         '2\\\\ HDTV with standard cable': 2,\n",
       "         'Panten conditioner': 2,\n",
       "         'Panten shampoo': 3,\n",
       "         'Marshall  refrigerator': 1,\n",
       "         'Emblema conditioner': 1,\n",
       "         'Primera marca conditioner': 1,\n",
       "         'Generico shampoo': 2,\n",
       "         '80\\\\ HDTV with Chromecast': 1,\n",
       "         'Fast wifi \\\\u2013 92 Mbps': 3,\n",
       "         'Perfum body soap': 1,\n",
       "         'Fast wifi \\\\u2013 56 Mbps': 15,\n",
       "         'Sachet Hotelero de bienvenida  conditioner': 1,\n",
       "         'DOMEC stainless steel oven': 9,\n",
       "         'Sachet hotelero de bienvenida shampoo': 1,\n",
       "         'Samsung Soundbar  sound system with Bluetooth and aux': 1,\n",
       "         'Pantene  shampoo': 4,\n",
       "         'Domec stove': 4,\n",
       "         'VZ l\\\\u00edquido  body soap': 1,\n",
       "         'Pantene  conditioner': 7,\n",
       "         'JBL Bluetooth sound system': 5,\n",
       "         'Aiwa sound system with aux': 1,\n",
       "         'Un espacio en nuestro Refrigerador. refrigerator': 1,\n",
       "         '50\\\\ HDTV with Apple TV': 7,\n",
       "         'Dove o Pantene shampoo': 1,\n",
       "         'Domec stainless steel electric stove': 12,\n",
       "         'Domec  stainless steel oven': 3,\n",
       "         '47\\\\ TV with Netflix': 1,\n",
       "         'El\\\\u00e9ctrico oven': 5,\n",
       "         'Bose sound system with Bluetooth and aux': 3,\n",
       "         'Sachet Hotelero de bienvenida shampoo': 2,\n",
       "         'Sachet Hotelero de bienvenida conditioner': 2,\n",
       "         'B\\\\u00e1sico de cortes\\\\u00eda  body soap': 1,\n",
       "         'Anafe  stainless steel electric stove': 1,\n",
       "         'Standart body soap': 1,\n",
       "         'Sanyo sound system with Bluetooth and aux': 1,\n",
       "         'Espadol/Dove body soap': 1,\n",
       "         'Plusvelle conditioner': 1,\n",
       "         'Sedal': 1,\n",
       "         'or similar conditioner': 1,\n",
       "         'Lux': 3,\n",
       "         '43\\\\ TV with Apple TV': 1,\n",
       "         'Beko refrigerator': 1,\n",
       "         '40\\\\ TV with Roku': 1,\n",
       "         'Hotelera shampoo': 2,\n",
       "         'ATMA stainless steel oven': 5,\n",
       "         'Philip refrigerator': 1,\n",
       "         'Domec gas stove': 2,\n",
       "         'Horno electrico  stainless steel oven': 1,\n",
       "         'GAFA refrigerator': 10,\n",
       "         'IKEA  induction stove': 1,\n",
       "         'Fast wifi \\\\u2013 83 Mbps': 5,\n",
       "         '65\\\\ HDTV with Apple TV': 2,\n",
       "         'Philco  conditioner': 1,\n",
       "         'Fast wifi \\\\u2013 152 Mbps': 1,\n",
       "         'Horno electrico': 1,\n",
       "         'ver fotos stainless steel oven': 1,\n",
       "         'Dos hornallas y horno electrico': 1,\n",
       "         'ver fotos electric stove': 1,\n",
       "         'Paid parking lot on premises \\\\u2013 2 spaces': 7,\n",
       "         '40\\\\ HDTV with Amazon Prime Video': 27,\n",
       "         'Wifi \\\\u2013 41 Mbps': 10,\n",
       "         'Harman kardon Bluetooth sound system': 2,\n",
       "         '- stainless steel gas stove': 1,\n",
       "         '- body soap': 1,\n",
       "         'Gafa stainless steel oven': 3,\n",
       "         'Private hot tub - available seasonally': 2,\n",
       "         'Jab\\\\u00f3n individual body soap': 1,\n",
       "         '22\\\\ HDTV with Roku': 1,\n",
       "         'Wifi \\\\u2013 17 Mbps': 1,\n",
       "         'Ariston Schott Ceran electric stove': 1,\n",
       "         'Indesit FI 20 B IX stainless steel oven': 1,\n",
       "         'Clothing storage: wardrobe and walk-in closet': 11,\n",
       "         'Patrick HPK135 M01  refrigerator': 1,\n",
       "         'Escorial oven': 5,\n",
       "         'Patric refrigerator': 4,\n",
       "         'Morelli 90cm stainless steel oven': 1,\n",
       "         'Fast wifi \\\\u2013 272 Mbps': 1,\n",
       "         'Cromwell stainless steel electric stove': 1,\n",
       "         'Cromwell stainless steel oven': 1,\n",
       "         'Garnier conditioner': 2,\n",
       "         'Bose Bluetooth sound system': 4,\n",
       "         'Samsung electric stove': 5,\n",
       "         'Bajo Mesada Ranser refrigerator': 1,\n",
       "         'Polaroid sound system': 1,\n",
       "         'Gafa  refrigerator': 5,\n",
       "         'Paid parking garage on premises \\\\u2013 5 spaces': 2,\n",
       "         '32\\\\ TV with Amazon Prime Video': 6,\n",
       "         'Horno electrico oven': 4,\n",
       "         '. stainless steel oven': 1,\n",
       "         'Anafe dos zonas induction stove': 1,\n",
       "         'Fast wifi \\\\u2013 117 Mbps': 2,\n",
       "         'Con Freezer refrigerator': 3,\n",
       "         'Jab\\\\u00f3n l\\\\u00edquido para manos body soap': 1,\n",
       "         '40\\\\ HDTV with Apple TV': 10,\n",
       "         'Palmolive o similar body soap': 2,\n",
       "         'Wirlpool refrigerator': 2,\n",
       "         'Shared gym': 22,\n",
       "         'Shared hot tub - available seasonally': 25,\n",
       "         'Zenith non frost  refrigerator': 1,\n",
       "         'Dove or similar shampoo': 1,\n",
       "         'Dove  or similar body soap': 1,\n",
       "         'Generic sound system with Bluetooth and aux': 1,\n",
       "         '49\\\\ HDTV with Netflix': 8,\n",
       "         'Dove or similar conditioner': 1,\n",
       "         'Random conditioner': 1,\n",
       "         'Random shampoo': 1,\n",
       "         'Random body soap': 1,\n",
       "         'infinity': 7,\n",
       "         'Electrico': 1,\n",
       "         'y horno a gas stainless steel oven': 1,\n",
       "         'Koh-i-noor refrigerator': 1,\n",
       "         'Shared indoor pool - heated': 4,\n",
       "         'Fenced garden or backyard': 3,\n",
       "         '41\\\\ HDTV with premium cable': 1,\n",
       "         '48\\\\ HDTV with premium cable': 1,\n",
       "         'Varias  body soap': 2,\n",
       "         'Varias  conditioner': 1,\n",
       "         'Top House refrigerator': 4,\n",
       "         'Black & Decker oven': 1,\n",
       "         'Natura body soap': 6,\n",
       "         'Standalone high chair': 4,\n",
       "         'Xxx body soap': 2,\n",
       "         'Fast wifi \\\\u2013 161 Mbps': 1,\n",
       "         'Fast wifi \\\\u2013 84 Mbps': 4,\n",
       "         '45\\\\ HDTV with Netflix': 28,\n",
       "         'Protex  body soap': 1,\n",
       "         '3\\\\ HDTV with Chromecast': 2,\n",
       "         'Dov conditioner': 1,\n",
       "         'Fast wifi \\\\u2013 105 Mbps': 2,\n",
       "         'Longvie  gas stove': 1,\n",
       "         'Longvie  oven': 1,\n",
       "         'A convenir body soap': 1,\n",
       "         'A convenir shampoo': 1,\n",
       "         'Local conditioner': 1,\n",
       "         'Marcas argentinas de peluquer\\\\u00eda shampoo': 1,\n",
       "         'Local body soap': 1,\n",
       "         'Wifi \\\\u2013 49 Mbps': 3,\n",
       "         ...})"
      ]
     },
     "execution_count": 52,
     "metadata": {},
     "output_type": "execute_result"
    }
   ],
   "source": [
    "#Counting the appearance of each amenity\n",
    "list_amenities = [word.strip() for word in corpus_merged]\n",
    "counts_amenities = Counter(list_amenities)\n",
    "counts_amenities"
   ]
  },
  {
   "cell_type": "code",
   "execution_count": 53,
   "metadata": {
    "colab": {
     "base_uri": "https://localhost:8080/",
     "height": 657
    },
    "id": "466TzJNL27om",
    "outputId": "f295ac54-b48f-4d7b-898a-57b0ce2abde5"
   },
   "outputs": [
    {
     "data": {
      "text/html": [
       "<div>\n",
       "<style scoped>\n",
       "    .dataframe tbody tr th:only-of-type {\n",
       "        vertical-align: middle;\n",
       "    }\n",
       "\n",
       "    .dataframe tbody tr th {\n",
       "        vertical-align: top;\n",
       "    }\n",
       "\n",
       "    .dataframe thead th {\n",
       "        text-align: right;\n",
       "    }\n",
       "</style>\n",
       "<table border=\"1\" class=\"dataframe\">\n",
       "  <thead>\n",
       "    <tr style=\"text-align: right;\">\n",
       "      <th></th>\n",
       "      <th>Amenities</th>\n",
       "      <th>Total</th>\n",
       "      <th>% of listings</th>\n",
       "    </tr>\n",
       "  </thead>\n",
       "  <tbody>\n",
       "    <tr>\n",
       "      <th>0</th>\n",
       "      <td>Kitchen</td>\n",
       "      <td>17016</td>\n",
       "      <td>94.81</td>\n",
       "    </tr>\n",
       "    <tr>\n",
       "      <th>1</th>\n",
       "      <td>Long term stays allowed</td>\n",
       "      <td>16639</td>\n",
       "      <td>92.71</td>\n",
       "    </tr>\n",
       "    <tr>\n",
       "      <th>2</th>\n",
       "      <td>Wifi</td>\n",
       "      <td>16540</td>\n",
       "      <td>92.16</td>\n",
       "    </tr>\n",
       "    <tr>\n",
       "      <th>3</th>\n",
       "      <td>Essentials</td>\n",
       "      <td>15518</td>\n",
       "      <td>86.47</td>\n",
       "    </tr>\n",
       "    <tr>\n",
       "      <th>4</th>\n",
       "      <td>Hangers</td>\n",
       "      <td>14286</td>\n",
       "      <td>79.60</td>\n",
       "    </tr>\n",
       "    <tr>\n",
       "      <th>5</th>\n",
       "      <td>Hot water</td>\n",
       "      <td>13315</td>\n",
       "      <td>74.19</td>\n",
       "    </tr>\n",
       "    <tr>\n",
       "      <th>6</th>\n",
       "      <td>Dishes and silverware</td>\n",
       "      <td>13163</td>\n",
       "      <td>73.34</td>\n",
       "    </tr>\n",
       "    <tr>\n",
       "      <th>7</th>\n",
       "      <td>Heating</td>\n",
       "      <td>12488</td>\n",
       "      <td>69.58</td>\n",
       "    </tr>\n",
       "    <tr>\n",
       "      <th>8</th>\n",
       "      <td>Cooking basics</td>\n",
       "      <td>12418</td>\n",
       "      <td>69.19</td>\n",
       "    </tr>\n",
       "    <tr>\n",
       "      <th>9</th>\n",
       "      <td>Refrigerator</td>\n",
       "      <td>11873</td>\n",
       "      <td>66.16</td>\n",
       "    </tr>\n",
       "    <tr>\n",
       "      <th>10</th>\n",
       "      <td>Air conditioning</td>\n",
       "      <td>11638</td>\n",
       "      <td>64.85</td>\n",
       "    </tr>\n",
       "    <tr>\n",
       "      <th>11</th>\n",
       "      <td>Hair dryer</td>\n",
       "      <td>11381</td>\n",
       "      <td>63.41</td>\n",
       "    </tr>\n",
       "    <tr>\n",
       "      <th>12</th>\n",
       "      <td>Elevator</td>\n",
       "      <td>11151</td>\n",
       "      <td>62.13</td>\n",
       "    </tr>\n",
       "    <tr>\n",
       "      <th>13</th>\n",
       "      <td>Iron</td>\n",
       "      <td>10808</td>\n",
       "      <td>60.22</td>\n",
       "    </tr>\n",
       "    <tr>\n",
       "      <th>14</th>\n",
       "      <td>Bed linens</td>\n",
       "      <td>10392</td>\n",
       "      <td>57.90</td>\n",
       "    </tr>\n",
       "    <tr>\n",
       "      <th>15</th>\n",
       "      <td>Coffee maker</td>\n",
       "      <td>9886</td>\n",
       "      <td>55.08</td>\n",
       "    </tr>\n",
       "    <tr>\n",
       "      <th>16</th>\n",
       "      <td>Microwave</td>\n",
       "      <td>9826</td>\n",
       "      <td>54.75</td>\n",
       "    </tr>\n",
       "    <tr>\n",
       "      <th>17</th>\n",
       "      <td>Shampoo</td>\n",
       "      <td>8075</td>\n",
       "      <td>44.99</td>\n",
       "    </tr>\n",
       "    <tr>\n",
       "      <th>18</th>\n",
       "      <td>Oven</td>\n",
       "      <td>7933</td>\n",
       "      <td>44.20</td>\n",
       "    </tr>\n",
       "    <tr>\n",
       "      <th>19</th>\n",
       "      <td>Extra pillows and blankets</td>\n",
       "      <td>7745</td>\n",
       "      <td>43.15</td>\n",
       "    </tr>\n",
       "  </tbody>\n",
       "</table>\n",
       "</div>"
      ],
      "text/plain": [
       "                     Amenities  Total  % of listings\n",
       "0                      Kitchen  17016          94.81\n",
       "1      Long term stays allowed  16639          92.71\n",
       "2                         Wifi  16540          92.16\n",
       "3                   Essentials  15518          86.47\n",
       "4                      Hangers  14286          79.60\n",
       "5                    Hot water  13315          74.19\n",
       "6        Dishes and silverware  13163          73.34\n",
       "7                      Heating  12488          69.58\n",
       "8               Cooking basics  12418          69.19\n",
       "9                 Refrigerator  11873          66.16\n",
       "10            Air conditioning  11638          64.85\n",
       "11                  Hair dryer  11381          63.41\n",
       "12                    Elevator  11151          62.13\n",
       "13                        Iron  10808          60.22\n",
       "14                  Bed linens  10392          57.90\n",
       "15                Coffee maker   9886          55.08\n",
       "16                   Microwave   9826          54.75\n",
       "17                     Shampoo   8075          44.99\n",
       "18                        Oven   7933          44.20\n",
       "19  Extra pillows and blankets   7745          43.15"
      ]
     },
     "execution_count": 53,
     "metadata": {},
     "output_type": "execute_result"
    }
   ],
   "source": [
    "# Dictionary to df\n",
    "df_amenities = pd.DataFrame(counts_amenities.items(), columns=['Amenities', 'Total']).sort_values(by='Total', ascending=False).reset_index(drop=True)\n",
    "df_amenities['% of listings'] = round((df_amenities['Total']/len(df))*100,2)\n",
    "df_amenities[:20]"
   ]
  },
  {
   "cell_type": "markdown",
   "metadata": {},
   "source": [
    "# Conclusions"
   ]
  },
  {
   "cell_type": "markdown",
   "metadata": {},
   "source": [
    "- The number of hosts grew linearly and steadily over the 2010-2022 period. By the time the dataset was created, there were 10127 hosts with listings.\n",
    "- There is one host with 2365 listings. Lives in the UK.\n",
    "- 93% of the hosts are located in Argentina and 83% of them are in Buenos Aires. Of the remaining 7% who live outside of Argentina, the cities with the highest participation are Barcelona, Madrid, Miami, and New York, among others.\n",
    "- 74% of the hosts are super-hosts.\n",
    "- There is no evidence of a significant difference between the prices offered by the super hosts that the standard ones.\n",
    "- Super hosts receive, on average, a better overall review score than standard hosts.\n",
    "- 79% of the hosts have only one listing.\n",
    "- Of the listing types, 87% correspond to the entire home/apartment, followed by a private room with 11%.\n",
    "- The neighborhoods with more listings are Palermo, Recoleta and San Nicolás.\n",
    "- It can be seen that both Palermo, Recoleta, Nuñez, and Retiro have a higher price than the other 10 neighborhoods with the most listings, although with a greater dispersion (greater interquartile range). In all cases, I observe many outliers.\n",
    "- The average price for one night is $11308. The most expensive neighborhoods are Dock 1, Dock 4, Dock 3 and Puerto Madero. For this analysis, I kept the values under the 99th percentile.\n",
    "- The neighborhoods with the best price-rating ratio are Parque Avellaneda, Versalles, Parque Patricios, Villa General Mitre and Boedo.\n"
   ]
  }
 ],
 "metadata": {
  "colab": {
   "collapsed_sections": [
    "n9X4lWIaRvd5",
    "oAQf0yUkR2yr",
    "4LBbt7wXwEBr",
    "mwhDU1RA7399",
    "ry5tzGJVNbo_"
   ],
   "provenance": []
  },
  "kernelspec": {
   "display_name": "Python 3 (ipykernel)",
   "language": "python",
   "name": "python3"
  },
  "language_info": {
   "codemirror_mode": {
    "name": "ipython",
    "version": 3
   },
   "file_extension": ".py",
   "mimetype": "text/x-python",
   "name": "python",
   "nbconvert_exporter": "python",
   "pygments_lexer": "ipython3",
   "version": "3.9.13"
  },
  "vscode": {
   "interpreter": {
    "hash": "314aa819f2742baa6dc2a66a8a9fc58a98870e4dabe99eee7d45719f7080f539"
   }
  }
 },
 "nbformat": 4,
 "nbformat_minor": 1
}
